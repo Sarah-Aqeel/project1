{
  "nbformat": 4,
  "nbformat_minor": 0,
  "metadata": {
    "colab": {
      "provenance": []
    },
    "kernelspec": {
      "name": "python3",
      "display_name": "Python 3"
    },
    "language_info": {
      "name": "python"
    }
  },
  "cells": [
    {
      "cell_type": "code",
      "execution_count": null,
      "metadata": {
        "id": "buJLdtKyb9A5"
      },
      "outputs": [],
      "source": [
        "class ParkingGarage:\n",
        "    def __init__(self, max_spaces):\n",
        "        self.max_spaces = max_spaces\n",
        "        self.tickets = [i for i in range(1, max_spaces + 1)]\n",
        "        self.parkingSpaces = [i for i in range(1, max_spaces + 1)]\n",
        "        self.currentTicket = {}\n",
        "\n",
        "    def takeTicket(self):\n",
        "        if self.tickets:\n",
        "            ticket = self.tickets.pop(0)\n",
        "            space = self.parkingSpaces.pop(0)\n",
        "            self.currentTicket[ticket] = {\"space\": space, \"paid\": False}\n",
        "            print(f\"Ticket {ticket} issued. Parking space {space} allocated.\")\n",
        "        else:\n",
        "            print(\"Sorry, the parking garage is full.\")\n",
        "\n",
        "    def payForParking(self):\n",
        "        ticket = int(input(\"Enter your ticket number: \"))\n",
        "        if ticket in self.currentTicket and not self.currentTicket[ticket][\"paid\"]:\n",
        "            amount = input(\"Enter payment amount: \")\n",
        "            if amount:\n",
        "                self.currentTicket[ticket][\"paid\"] = True\n",
        "                print(\"Payment successful. You have 15 minutes to leave.\")\n",
        "            else:\n",
        "                print(\"Invalid amount entered.\")\n",
        "        else:\n",
        "            print(\"Ticket not found or already paid.\")\n",
        "\n",
        "    def leaveGarage(self):\n",
        "        ticket = int(input(\"Enter your ticket number: \"))\n",
        "        if ticket in self.currentTicket:\n",
        "            if self.currentTicket[ticket][\"paid\"]:\n",
        "                print(\"Thank you, have a nice day!\")\n",
        "                self.parkingSpaces.append(self.currentTicket[ticket][\"space\"])\n",
        "                self.tickets.append(ticket)\n",
        "                del self.currentTicket[ticket]\n",
        "            else:\n",
        "                print(\"Payment required.\")\n",
        "                self.payForParking()\n",
        "        else:\n",
        "            print(\"Invalid ticket number.\")\n",
        "\n",
        "\n",
        "# Example usage:\n",
        "garage = ParkingGarage(10)  # Initialize parking garage with 10 spaces\n",
        "garage.takeTicket()  # Simulate issuing a ticket\n",
        "garage.payForParking()  # Simulate paying for parking\n",
        "garage.leaveGarage()  # Simulate leaving the garage\n"
      ]
    },
    {
      "cell_type": "code",
      "source": [],
      "metadata": {
        "id": "BlEWzEjRdqfL"
      },
      "execution_count": null,
      "outputs": []
    },
    {
      "cell_type": "code",
      "source": [],
      "metadata": {
        "id": "EDH5qu-Vdp8N"
      },
      "execution_count": null,
      "outputs": []
    }
  ]
}