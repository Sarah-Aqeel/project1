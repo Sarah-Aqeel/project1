{
  "nbformat": 4,
  "nbformat_minor": 0,
  "metadata": {
    "colab": {
      "provenance": []
    },
    "kernelspec": {
      "name": "python3",
      "display_name": "Python 3"
    },
    "language_info": {
      "name": "python"
    }
  },
  "cells": [
    {
      "cell_type": "code",
      "execution_count": null,
      "metadata": {
        "id": "YfoCvov73iCR",
        "colab": {
          "base_uri": "https://localhost:8080/",
          "height": 110
        },
        "outputId": "2889040e-a16d-4df8-9ec8-5933f297e9ee"
      },
      "outputs": [
        {
          "output_type": "error",
          "ename": "SyntaxError",
          "evalue": "invalid syntax (<ipython-input-1-b9e5d252f815>, line 24)",
          "traceback": [
            "\u001b[0;36m  File \u001b[0;32m\"<ipython-input-1-b9e5d252f815>\"\u001b[0;36m, line \u001b[0;32m24\u001b[0m\n\u001b[0;31m    elif:\u001b[0m\n\u001b[0m        ^\u001b[0m\n\u001b[0;31mSyntaxError\u001b[0m\u001b[0;31m:\u001b[0m invalid syntax\n"
          ]
        }
      ],
      "source": [
        "import requests\n",
        "\n",
        "# Retrieve a list of 20 Pokémon names\n",
        "limit = 20\n",
        "url = f\"https://pokeapi.co/api/v2/pokemon?limit={limit}\"\n",
        "response = requests.get(url)\n",
        "\n",
        "if response.status_code == 200:\n",
        "  pokemon_list = response.json()['results']\n",
        "  for pokemon in pokemon_list:\n",
        "    pokemon_name = pokemon['name']\n",
        "  print(\"\\nFetching data for\", pokemon_name)\n",
        "\n",
        "# Retrieve details for each Pokémon\n",
        "url = f\"https://pokeapi.co/api/v2/pokemon/{pokemon_name}\"\n",
        "response = requests.get(url)\n",
        "\n",
        "if response.status_code == 200:\n",
        "  pokemon_data = response.json()\n",
        "  print(\"Pokemon Name:\", pokemon_data['name'])\n",
        "  print(\"Pokemon Abilities:\", [ability['ability']['name'] for ability in pokemon_data['abilities']])\n",
        "  print(\"Pokemon Types:\", [type['type']['name'] for type in pokemon_data['types']])\n",
        "  print(\"Pokemon Weight:\", pokemon_data['weight'])\n",
        "elif:\n",
        "  print(f\"Failed to retrieve data for {pokemon_name}. Status code: {response.status_code}\")\n",
        "else:\n",
        "  print(\"Failed to retrieve Pokémon list.\")"
      ]
    },
    {
      "cell_type": "code",
      "source": [
        "import requests:\n"
      ],
      "metadata": {
        "id": "mQku-gblO6oC"
      },
      "execution_count": null,
      "outputs": []
    },
    {
      "cell_type": "code",
      "source": [],
      "metadata": {
        "id": "_A1Bf-wI0pO_"
      },
      "execution_count": null,
      "outputs": []
    },
    {
      "cell_type": "code",
      "source": [],
      "metadata": {
        "id": "RMOnE0RfPCHg"
      },
      "execution_count": null,
      "outputs": []
    },
    {
      "cell_type": "code",
      "source": [
        "import requests"
      ],
      "metadata": {
        "id": "q-Pz5B7x37-Y"
      },
      "execution_count": null,
      "outputs": []
    },
    {
      "cell_type": "code",
      "source": [],
      "metadata": {
        "id": "ckY52xTnPKUr"
      },
      "execution_count": null,
      "outputs": []
    },
    {
      "cell_type": "code",
      "source": [
        "url='https://api.coingecko.com/api/v3/simple/price?ids=bitcoin,ethereum,litecoin,ripple&vs_currencies=usd'"
      ],
      "metadata": {
        "id": "Ej5stdir4BLk"
      },
      "execution_count": null,
      "outputs": []
    },
    {
      "cell_type": "code",
      "source": [],
      "metadata": {
        "id": "pMbdzNwZ1bKC"
      },
      "execution_count": null,
      "outputs": []
    },
    {
      "cell_type": "code",
      "source": [
        "response=requests.get(url)"
      ],
      "metadata": {
        "id": "qtMs6Yap4RVT"
      },
      "execution_count": null,
      "outputs": []
    },
    {
      "cell_type": "code",
      "source": [
        "crypto_dict={}\n",
        "if response.status_code == 200:\n",
        "  crypto_coin_list = response.json()\n",
        "  for key,value in crypto_coin_list.items():\n",
        "    crypto_dict[key]=value['usd']\n",
        "  print(crypto_dict)"
      ],
      "metadata": {
        "colab": {
          "base_uri": "https://localhost:8080/"
        },
        "id": "DBkqgbOa4Z6-",
        "outputId": "eb6a61fd-518e-48f4-d392-0e3e5a7955e3"
      },
      "execution_count": null,
      "outputs": [
        {
          "output_type": "stream",
          "name": "stdout",
          "text": [
            "{'bitcoin': 61291, 'ethereum': 3385.65, 'litecoin': 82.81, 'ripple': 0.587189}\n"
          ]
        }
      ]
    },
    {
      "cell_type": "code",
      "source": [
        "{\n",
        "    \"bitcoin\": {\n",
        "        \"usd\": 67887\n",
        "    },\n",
        "    \"ethereum\": {\n",
        "        \"usd\": 3719.12\n",
        "    },\n",
        "    \"litecoin\": {\n",
        "        \"usd\": 89.68\n",
        "    },\n",
        "    \"ripple\": {\n",
        "        \"usd\": 0.648453\n",
        "    }\n",
        "}"
      ],
      "metadata": {
        "id": "xewlm5p91eWl"
      },
      "execution_count": null,
      "outputs": []
    },
    {
      "cell_type": "code",
      "source": [
        "import requests\n",
        "limit=5\n",
        "url=f\"https://api.chucknorris.io/jokes/random\"\n",
        "for i in range(5):\n",
        "  response=requests.get(url)\n",
        "  if response.status_code==200:\n",
        "    jokes = response.json()['value']\n",
        "    print(jokes)\n",
        "\n"
      ],
      "metadata": {
        "id": "_YvSPEab1kls",
        "colab": {
          "base_uri": "https://localhost:8080/"
        },
        "outputId": "f00c847d-dff4-42f3-c09d-d1b9cc5fd4b4"
      },
      "execution_count": null,
      "outputs": [
        {
          "output_type": "stream",
          "name": "stdout",
          "text": [
            "Chuck Norris is nothing compared to DavidV. DavidV drowned a guy in fire.\n",
            "If you work in an office with Chuck Norris, don't ask him for his three-hole-punch.\n",
            "Chuck Norris was born when the roundhouse kicks were two minutes apart.\n",
            "Chuck Norris once struck lightning\n",
            "Chuck Norris can taste lies.\n"
          ]
        }
      ]
    },
    {
      "cell_type": "code",
      "source": [
        "import requests\n",
        "jokes={}\n",
        "url=\"https://api.chucknorris.io/jokes/random\"\n",
        "response=requests.get(url)\n",
        "if response.status_code==200:\n",
        "  chuck_joke=response.json()\n"
      ],
      "metadata": {
        "id": "Pt-ltyKk8_Fu"
      },
      "execution_count": null,
      "outputs": []
    },
    {
      "cell_type": "code",
      "source": [
        "import requests\n",
        "jokes={}\n",
        "url='https://api.coingecko.com/api/v3/simple/price?ids=bitcoin,ethereum,litecoin,ripple&vs_currencies=usd'\n",
        "response=requests.get(url)\n",
        "if response.status_code==200:\n",
        "  jokes_list = response.json()\n",
        "  for key,value in jokes_list.items():\n",
        "    jokes['key']=value[\"value\"]\n",
        "  print(jokes)"
      ],
      "metadata": {
        "colab": {
          "base_uri": "https://localhost:8080/",
          "height": 200
        },
        "id": "bpSMqqVG8s1_",
        "outputId": "f0bd4742-03fc-4c70-8752-10bc48ecbbec"
      },
      "execution_count": null,
      "outputs": [
        {
          "output_type": "error",
          "ename": "KeyError",
          "evalue": "'value'",
          "traceback": [
            "\u001b[0;31m---------------------------------------------------------------------------\u001b[0m",
            "\u001b[0;31mKeyError\u001b[0m                                  Traceback (most recent call last)",
            "\u001b[0;32m<ipython-input-1-c234055f0e99>\u001b[0m in \u001b[0;36m<cell line: 5>\u001b[0;34m()\u001b[0m\n\u001b[1;32m      6\u001b[0m   \u001b[0mjokes_list\u001b[0m \u001b[0;34m=\u001b[0m \u001b[0mresponse\u001b[0m\u001b[0;34m.\u001b[0m\u001b[0mjson\u001b[0m\u001b[0;34m(\u001b[0m\u001b[0;34m)\u001b[0m\u001b[0;34m\u001b[0m\u001b[0;34m\u001b[0m\u001b[0m\n\u001b[1;32m      7\u001b[0m   \u001b[0;32mfor\u001b[0m \u001b[0mkey\u001b[0m\u001b[0;34m,\u001b[0m\u001b[0mvalue\u001b[0m \u001b[0;32min\u001b[0m \u001b[0mjokes_list\u001b[0m\u001b[0;34m.\u001b[0m\u001b[0mitems\u001b[0m\u001b[0;34m(\u001b[0m\u001b[0;34m)\u001b[0m\u001b[0;34m:\u001b[0m\u001b[0;34m\u001b[0m\u001b[0;34m\u001b[0m\u001b[0m\n\u001b[0;32m----> 8\u001b[0;31m     \u001b[0mjokes\u001b[0m\u001b[0;34m[\u001b[0m\u001b[0;34m'key'\u001b[0m\u001b[0;34m]\u001b[0m\u001b[0;34m=\u001b[0m\u001b[0mvalue\u001b[0m\u001b[0;34m[\u001b[0m\u001b[0;34m\"value\"\u001b[0m\u001b[0;34m]\u001b[0m\u001b[0;34m\u001b[0m\u001b[0;34m\u001b[0m\u001b[0m\n\u001b[0m\u001b[1;32m      9\u001b[0m   \u001b[0mprint\u001b[0m\u001b[0;34m(\u001b[0m\u001b[0mjokes\u001b[0m\u001b[0;34m)\u001b[0m\u001b[0;34m\u001b[0m\u001b[0;34m\u001b[0m\u001b[0m\n",
            "\u001b[0;31mKeyError\u001b[0m: 'value'"
          ]
        }
      ]
    },
    {
      "cell_type": "code",
      "source": [
        "import requests\n",
        "url=\"https://api.chucknorris.io/jokes/random\"\n",
        "jokes_chuck={}\n",
        "response=requests.get('url')\n",
        "if response.status_code==200:\n",
        "  jokes=response.json()\n",
        "  print(\"chuck jokes:\", [value[\"categories\"]['value'] for value in jokes['value']])\n",
        "\n"
      ],
      "metadata": {
        "id": "KZAiH9Hy3Mnk",
        "colab": {
          "base_uri": "https://localhost:8080/",
          "height": 370
        },
        "outputId": "74f9342d-6c44-4276-b15e-d9641ae9fc41"
      },
      "execution_count": null,
      "outputs": [
        {
          "output_type": "error",
          "ename": "MissingSchema",
          "evalue": "Invalid URL 'url': No scheme supplied. Perhaps you meant https://url?",
          "traceback": [
            "\u001b[0;31m---------------------------------------------------------------------------\u001b[0m",
            "\u001b[0;31mMissingSchema\u001b[0m                             Traceback (most recent call last)",
            "\u001b[0;32m<ipython-input-22-f1a4d914458b>\u001b[0m in \u001b[0;36m<cell line: 4>\u001b[0;34m()\u001b[0m\n\u001b[1;32m      2\u001b[0m \u001b[0murl\u001b[0m\u001b[0;34m=\u001b[0m\u001b[0;34m\"https://api.chucknorris.io/jokes/random\"\u001b[0m\u001b[0;34m\u001b[0m\u001b[0;34m\u001b[0m\u001b[0m\n\u001b[1;32m      3\u001b[0m \u001b[0mjokes_chuck\u001b[0m\u001b[0;34m=\u001b[0m\u001b[0;34m{\u001b[0m\u001b[0;34m}\u001b[0m\u001b[0;34m\u001b[0m\u001b[0;34m\u001b[0m\u001b[0m\n\u001b[0;32m----> 4\u001b[0;31m \u001b[0mresponse\u001b[0m\u001b[0;34m=\u001b[0m\u001b[0mrequests\u001b[0m\u001b[0;34m.\u001b[0m\u001b[0mget\u001b[0m\u001b[0;34m(\u001b[0m\u001b[0;34m'url'\u001b[0m\u001b[0;34m)\u001b[0m\u001b[0;34m\u001b[0m\u001b[0;34m\u001b[0m\u001b[0m\n\u001b[0m\u001b[1;32m      5\u001b[0m \u001b[0;32mif\u001b[0m \u001b[0mresponse\u001b[0m\u001b[0;34m.\u001b[0m\u001b[0mstatus_code\u001b[0m\u001b[0;34m==\u001b[0m\u001b[0;36m200\u001b[0m\u001b[0;34m:\u001b[0m\u001b[0;34m\u001b[0m\u001b[0;34m\u001b[0m\u001b[0m\n\u001b[1;32m      6\u001b[0m   \u001b[0mjokes\u001b[0m\u001b[0;34m=\u001b[0m\u001b[0mresponse\u001b[0m\u001b[0;34m.\u001b[0m\u001b[0mjson\u001b[0m\u001b[0;34m(\u001b[0m\u001b[0;34m)\u001b[0m\u001b[0;34m\u001b[0m\u001b[0;34m\u001b[0m\u001b[0m\n",
            "\u001b[0;32m/usr/local/lib/python3.10/dist-packages/requests/api.py\u001b[0m in \u001b[0;36mget\u001b[0;34m(url, params, **kwargs)\u001b[0m\n\u001b[1;32m     71\u001b[0m     \"\"\"\n\u001b[1;32m     72\u001b[0m \u001b[0;34m\u001b[0m\u001b[0m\n\u001b[0;32m---> 73\u001b[0;31m     \u001b[0;32mreturn\u001b[0m \u001b[0mrequest\u001b[0m\u001b[0;34m(\u001b[0m\u001b[0;34m\"get\"\u001b[0m\u001b[0;34m,\u001b[0m \u001b[0murl\u001b[0m\u001b[0;34m,\u001b[0m \u001b[0mparams\u001b[0m\u001b[0;34m=\u001b[0m\u001b[0mparams\u001b[0m\u001b[0;34m,\u001b[0m \u001b[0;34m**\u001b[0m\u001b[0mkwargs\u001b[0m\u001b[0;34m)\u001b[0m\u001b[0;34m\u001b[0m\u001b[0;34m\u001b[0m\u001b[0m\n\u001b[0m\u001b[1;32m     74\u001b[0m \u001b[0;34m\u001b[0m\u001b[0m\n\u001b[1;32m     75\u001b[0m \u001b[0;34m\u001b[0m\u001b[0m\n",
            "\u001b[0;32m/usr/local/lib/python3.10/dist-packages/requests/api.py\u001b[0m in \u001b[0;36mrequest\u001b[0;34m(method, url, **kwargs)\u001b[0m\n\u001b[1;32m     57\u001b[0m     \u001b[0;31m# cases, and look like a memory leak in others.\u001b[0m\u001b[0;34m\u001b[0m\u001b[0;34m\u001b[0m\u001b[0m\n\u001b[1;32m     58\u001b[0m     \u001b[0;32mwith\u001b[0m \u001b[0msessions\u001b[0m\u001b[0;34m.\u001b[0m\u001b[0mSession\u001b[0m\u001b[0;34m(\u001b[0m\u001b[0;34m)\u001b[0m \u001b[0;32mas\u001b[0m \u001b[0msession\u001b[0m\u001b[0;34m:\u001b[0m\u001b[0;34m\u001b[0m\u001b[0;34m\u001b[0m\u001b[0m\n\u001b[0;32m---> 59\u001b[0;31m         \u001b[0;32mreturn\u001b[0m \u001b[0msession\u001b[0m\u001b[0;34m.\u001b[0m\u001b[0mrequest\u001b[0m\u001b[0;34m(\u001b[0m\u001b[0mmethod\u001b[0m\u001b[0;34m=\u001b[0m\u001b[0mmethod\u001b[0m\u001b[0;34m,\u001b[0m \u001b[0murl\u001b[0m\u001b[0;34m=\u001b[0m\u001b[0murl\u001b[0m\u001b[0;34m,\u001b[0m \u001b[0;34m**\u001b[0m\u001b[0mkwargs\u001b[0m\u001b[0;34m)\u001b[0m\u001b[0;34m\u001b[0m\u001b[0;34m\u001b[0m\u001b[0m\n\u001b[0m\u001b[1;32m     60\u001b[0m \u001b[0;34m\u001b[0m\u001b[0m\n\u001b[1;32m     61\u001b[0m \u001b[0;34m\u001b[0m\u001b[0m\n",
            "\u001b[0;32m/usr/local/lib/python3.10/dist-packages/requests/sessions.py\u001b[0m in \u001b[0;36mrequest\u001b[0;34m(self, method, url, params, data, headers, cookies, files, auth, timeout, allow_redirects, proxies, hooks, stream, verify, cert, json)\u001b[0m\n\u001b[1;32m    573\u001b[0m             \u001b[0mhooks\u001b[0m\u001b[0;34m=\u001b[0m\u001b[0mhooks\u001b[0m\u001b[0;34m,\u001b[0m\u001b[0;34m\u001b[0m\u001b[0;34m\u001b[0m\u001b[0m\n\u001b[1;32m    574\u001b[0m         )\n\u001b[0;32m--> 575\u001b[0;31m         \u001b[0mprep\u001b[0m \u001b[0;34m=\u001b[0m \u001b[0mself\u001b[0m\u001b[0;34m.\u001b[0m\u001b[0mprepare_request\u001b[0m\u001b[0;34m(\u001b[0m\u001b[0mreq\u001b[0m\u001b[0;34m)\u001b[0m\u001b[0;34m\u001b[0m\u001b[0;34m\u001b[0m\u001b[0m\n\u001b[0m\u001b[1;32m    576\u001b[0m \u001b[0;34m\u001b[0m\u001b[0m\n\u001b[1;32m    577\u001b[0m         \u001b[0mproxies\u001b[0m \u001b[0;34m=\u001b[0m \u001b[0mproxies\u001b[0m \u001b[0;32mor\u001b[0m \u001b[0;34m{\u001b[0m\u001b[0;34m}\u001b[0m\u001b[0;34m\u001b[0m\u001b[0;34m\u001b[0m\u001b[0m\n",
            "\u001b[0;32m/usr/local/lib/python3.10/dist-packages/requests/sessions.py\u001b[0m in \u001b[0;36mprepare_request\u001b[0;34m(self, request)\u001b[0m\n\u001b[1;32m    484\u001b[0m \u001b[0;34m\u001b[0m\u001b[0m\n\u001b[1;32m    485\u001b[0m         \u001b[0mp\u001b[0m \u001b[0;34m=\u001b[0m \u001b[0mPreparedRequest\u001b[0m\u001b[0;34m(\u001b[0m\u001b[0;34m)\u001b[0m\u001b[0;34m\u001b[0m\u001b[0;34m\u001b[0m\u001b[0m\n\u001b[0;32m--> 486\u001b[0;31m         p.prepare(\n\u001b[0m\u001b[1;32m    487\u001b[0m             \u001b[0mmethod\u001b[0m\u001b[0;34m=\u001b[0m\u001b[0mrequest\u001b[0m\u001b[0;34m.\u001b[0m\u001b[0mmethod\u001b[0m\u001b[0;34m.\u001b[0m\u001b[0mupper\u001b[0m\u001b[0;34m(\u001b[0m\u001b[0;34m)\u001b[0m\u001b[0;34m,\u001b[0m\u001b[0;34m\u001b[0m\u001b[0;34m\u001b[0m\u001b[0m\n\u001b[1;32m    488\u001b[0m             \u001b[0murl\u001b[0m\u001b[0;34m=\u001b[0m\u001b[0mrequest\u001b[0m\u001b[0;34m.\u001b[0m\u001b[0murl\u001b[0m\u001b[0;34m,\u001b[0m\u001b[0;34m\u001b[0m\u001b[0;34m\u001b[0m\u001b[0m\n",
            "\u001b[0;32m/usr/local/lib/python3.10/dist-packages/requests/models.py\u001b[0m in \u001b[0;36mprepare\u001b[0;34m(self, method, url, headers, files, data, params, auth, cookies, hooks, json)\u001b[0m\n\u001b[1;32m    366\u001b[0m \u001b[0;34m\u001b[0m\u001b[0m\n\u001b[1;32m    367\u001b[0m         \u001b[0mself\u001b[0m\u001b[0;34m.\u001b[0m\u001b[0mprepare_method\u001b[0m\u001b[0;34m(\u001b[0m\u001b[0mmethod\u001b[0m\u001b[0;34m)\u001b[0m\u001b[0;34m\u001b[0m\u001b[0;34m\u001b[0m\u001b[0m\n\u001b[0;32m--> 368\u001b[0;31m         \u001b[0mself\u001b[0m\u001b[0;34m.\u001b[0m\u001b[0mprepare_url\u001b[0m\u001b[0;34m(\u001b[0m\u001b[0murl\u001b[0m\u001b[0;34m,\u001b[0m \u001b[0mparams\u001b[0m\u001b[0;34m)\u001b[0m\u001b[0;34m\u001b[0m\u001b[0;34m\u001b[0m\u001b[0m\n\u001b[0m\u001b[1;32m    369\u001b[0m         \u001b[0mself\u001b[0m\u001b[0;34m.\u001b[0m\u001b[0mprepare_headers\u001b[0m\u001b[0;34m(\u001b[0m\u001b[0mheaders\u001b[0m\u001b[0;34m)\u001b[0m\u001b[0;34m\u001b[0m\u001b[0;34m\u001b[0m\u001b[0m\n\u001b[1;32m    370\u001b[0m         \u001b[0mself\u001b[0m\u001b[0;34m.\u001b[0m\u001b[0mprepare_cookies\u001b[0m\u001b[0;34m(\u001b[0m\u001b[0mcookies\u001b[0m\u001b[0;34m)\u001b[0m\u001b[0;34m\u001b[0m\u001b[0;34m\u001b[0m\u001b[0m\n",
            "\u001b[0;32m/usr/local/lib/python3.10/dist-packages/requests/models.py\u001b[0m in \u001b[0;36mprepare_url\u001b[0;34m(self, url, params)\u001b[0m\n\u001b[1;32m    437\u001b[0m \u001b[0;34m\u001b[0m\u001b[0m\n\u001b[1;32m    438\u001b[0m         \u001b[0;32mif\u001b[0m \u001b[0;32mnot\u001b[0m \u001b[0mscheme\u001b[0m\u001b[0;34m:\u001b[0m\u001b[0;34m\u001b[0m\u001b[0;34m\u001b[0m\u001b[0m\n\u001b[0;32m--> 439\u001b[0;31m             raise MissingSchema(\n\u001b[0m\u001b[1;32m    440\u001b[0m                 \u001b[0;34mf\"Invalid URL {url!r}: No scheme supplied. \"\u001b[0m\u001b[0;34m\u001b[0m\u001b[0;34m\u001b[0m\u001b[0m\n\u001b[1;32m    441\u001b[0m                 \u001b[0;34mf\"Perhaps you meant https://{url}?\"\u001b[0m\u001b[0;34m\u001b[0m\u001b[0;34m\u001b[0m\u001b[0m\n",
            "\u001b[0;31mMissingSchema\u001b[0m: Invalid URL 'url': No scheme supplied. Perhaps you meant https://url?"
          ]
        }
      ]
    },
    {
      "cell_type": "code",
      "source": [
        "https://api.coindesk.com/v1/bpi/currentprice.json"
      ],
      "metadata": {
        "id": "v-SsW5WWdiMo"
      },
      "execution_count": null,
      "outputs": []
    },
    {
      "cell_type": "code",
      "source": [],
      "metadata": {
        "id": "Xkyxm-xO0cn4"
      },
      "execution_count": null,
      "outputs": []
    },
    {
      "cell_type": "code",
      "source": [
        "import requests\n",
        "url='https://api.quotable.io/random'\n",
        "quotes=[]\n",
        "for i in range(5):\n",
        "  response=requests.get(url)\n",
        "  if response.status_code==200:\n",
        "    quote=response.json()['content']\n",
        "    quotes2=response.json()['author']\n",
        "    quotes.append((quotes2,quote))\n",
        "\n",
        "\n",
        "     #[('Helen Keller','Quote Text')]\n"
      ],
      "metadata": {
        "id": "gu6edB_OGxg2"
      },
      "execution_count": null,
      "outputs": []
    },
    {
      "cell_type": "code",
      "source": [
        "quotes"
      ],
      "metadata": {
        "colab": {
          "base_uri": "https://localhost:8080/"
        },
        "id": "je_Pqp9c_amK",
        "outputId": "50a38b34-8cd0-4e8b-b307-a44fa3795cbb"
      },
      "execution_count": null,
      "outputs": [
        {
          "output_type": "execute_result",
          "data": {
            "text/plain": [
              "[('Albert Einstein',\n",
              "  'Peace cannot be kept by force. It can only be achieved by understanding.'),\n",
              " ('Pope Paul VI',\n",
              "  \"Never reach out your hand unless you're willing to extend an arm.\"),\n",
              " ('Epictetus', 'Difficulties are things that show a person what they are.'),\n",
              " ('Ray Bradbury',\n",
              "  'Living at risk is jumping off the cliff and building your wings on the way down.'),\n",
              " ('Ralph Waldo Emerson', 'To be great is to be misunderstood.')]"
            ]
          },
          "metadata": {},
          "execution_count": 5
        }
      ]
    },
    {
      "cell_type": "code",
      "source": [
        "import requests\n",
        "\n",
        "\n",
        "url=\"https://cat-fact.herokuapp.com/facts\"\n",
        "response=requests.get(url)\n",
        "dic=[]\n",
        "if response.status_code==200:\n",
        "  cat_fact=response.json()\n",
        "  for i in cat_fact:\n",
        "    fact1=i['user']\n",
        "    fact2=i['text']\n",
        "print(fact1)\n",
        "#     dic.append((fact1,fact2))\n",
        "# print(dic)\n",
        "\n",
        "\n",
        "\n",
        "\n",
        "\n",
        "\n",
        "\n",
        "\n",
        "\n",
        "\n"
      ],
      "metadata": {
        "colab": {
          "base_uri": "https://localhost:8080/"
        },
        "id": "jFyJQ_qrq_Fq",
        "outputId": "ef2244d6-9f2d-4f72-a7c2-7ae8b376fe85"
      },
      "execution_count": null,
      "outputs": [
        {
          "output_type": "stream",
          "name": "stdout",
          "text": [
            "58e007480aac31001185ecef\n"
          ]
        }
      ]
    },
    {
      "cell_type": "code",
      "source": [
        "import requests\n",
        "import pandas as pd\n",
        "dic={}\n",
        "key =\"pk_356ccb37d932494daa8fdf3a3b368186\"\n",
        "url=f'https://api.iex.cloud/v1/data/core/historical_prices/msft?range=2m&token={key}'\n",
        "response=requests.get(url)\n",
        "if response.status_code==200:\n",
        "  iex=response.json()\n",
        "for data_dict in iex:\n",
        "  dic[data_dict['priceDate']]=data_dict['close']\n",
        "print(dic)\n",
        "df=pd.DataFrame({'date':dic.keys(),'price':dic.values()})\n",
        "df\n",
        "\n",
        "\n"
      ],
      "metadata": {
        "id": "CBoEW06yPOkr"
      },
      "execution_count": null,
      "outputs": []
    },
    {
      "cell_type": "code",
      "source": [
        "import requests\n",
        "\n",
        "url=\"https://api.coindesk.com/v1/bpi/currentprice.json\"\n",
        "response=requests.get(url)\n",
        "\n",
        "if response.status_code==200:\n",
        "  coin_list=response.json()\n",
        "  for i in coin_list['bpi']:\n",
        "    print(i,(coin_list['bpi'][i]['rate']))\n",
        "\n",
        "\n",
        "\n"
      ],
      "metadata": {
        "colab": {
          "base_uri": "https://localhost:8080/"
        },
        "id": "fAz4tUT2IUnG",
        "outputId": "dc2903ba-c706-4c7e-c9db-ac64abeacfd9"
      },
      "execution_count": null,
      "outputs": [
        {
          "output_type": "stream",
          "name": "stdout",
          "text": [
            "USD 72,378.355\n",
            "GBP 56,513.309\n",
            "EUR 66,234.664\n"
          ]
        }
      ]
    },
    {
      "cell_type": "code",
      "source": [
        "import requests\n",
        "import pandas as pd\n",
        "dic={}\n",
        "url='https://datausa.io/api/data?drilldowns=Nation&measures=Population'\n",
        "response=requests.get(url)\n",
        "if response.status_code==200:\n",
        "  drill=response.json()\n",
        "for i in drill['data']:\n",
        "  dic[i['Population']]=i['Year']\n",
        "print(dic)\n",
        "df=pd.DataFrame({'population':dic.keys(),'year':dic.values()})\n",
        "df.head()\n",
        "\n",
        "\n",
        "\n"
      ],
      "metadata": {
        "colab": {
          "base_uri": "https://localhost:8080/",
          "height": 244
        },
        "id": "uTgdCwRcwSBu",
        "outputId": "be224696-c515-4405-844e-d0f64352fdfa"
      },
      "execution_count": null,
      "outputs": [
        {
          "output_type": "stream",
          "name": "stdout",
          "text": [
            "{329725481: '2021', 326569308: '2020', 324697795: '2019', 322903030: '2018', 321004407: '2017', 318558162: '2016', 316515021: '2015', 314107084: '2014', 311536594: '2013'}\n"
          ]
        },
        {
          "output_type": "execute_result",
          "data": {
            "text/plain": [
              "   population  year\n",
              "0   329725481  2021\n",
              "1   326569308  2020\n",
              "2   324697795  2019\n",
              "3   322903030  2018\n",
              "4   321004407  2017"
            ],
            "text/html": [
              "\n",
              "  <div id=\"df-fa7844f5-f163-4909-89fb-e3d87545198c\" class=\"colab-df-container\">\n",
              "    <div>\n",
              "<style scoped>\n",
              "    .dataframe tbody tr th:only-of-type {\n",
              "        vertical-align: middle;\n",
              "    }\n",
              "\n",
              "    .dataframe tbody tr th {\n",
              "        vertical-align: top;\n",
              "    }\n",
              "\n",
              "    .dataframe thead th {\n",
              "        text-align: right;\n",
              "    }\n",
              "</style>\n",
              "<table border=\"1\" class=\"dataframe\">\n",
              "  <thead>\n",
              "    <tr style=\"text-align: right;\">\n",
              "      <th></th>\n",
              "      <th>population</th>\n",
              "      <th>year</th>\n",
              "    </tr>\n",
              "  </thead>\n",
              "  <tbody>\n",
              "    <tr>\n",
              "      <th>0</th>\n",
              "      <td>329725481</td>\n",
              "      <td>2021</td>\n",
              "    </tr>\n",
              "    <tr>\n",
              "      <th>1</th>\n",
              "      <td>326569308</td>\n",
              "      <td>2020</td>\n",
              "    </tr>\n",
              "    <tr>\n",
              "      <th>2</th>\n",
              "      <td>324697795</td>\n",
              "      <td>2019</td>\n",
              "    </tr>\n",
              "    <tr>\n",
              "      <th>3</th>\n",
              "      <td>322903030</td>\n",
              "      <td>2018</td>\n",
              "    </tr>\n",
              "    <tr>\n",
              "      <th>4</th>\n",
              "      <td>321004407</td>\n",
              "      <td>2017</td>\n",
              "    </tr>\n",
              "  </tbody>\n",
              "</table>\n",
              "</div>\n",
              "    <div class=\"colab-df-buttons\">\n",
              "\n",
              "  <div class=\"colab-df-container\">\n",
              "    <button class=\"colab-df-convert\" onclick=\"convertToInteractive('df-fa7844f5-f163-4909-89fb-e3d87545198c')\"\n",
              "            title=\"Convert this dataframe to an interactive table.\"\n",
              "            style=\"display:none;\">\n",
              "\n",
              "  <svg xmlns=\"http://www.w3.org/2000/svg\" height=\"24px\" viewBox=\"0 -960 960 960\">\n",
              "    <path d=\"M120-120v-720h720v720H120Zm60-500h600v-160H180v160Zm220 220h160v-160H400v160Zm0 220h160v-160H400v160ZM180-400h160v-160H180v160Zm440 0h160v-160H620v160ZM180-180h160v-160H180v160Zm440 0h160v-160H620v160Z\"/>\n",
              "  </svg>\n",
              "    </button>\n",
              "\n",
              "  <style>\n",
              "    .colab-df-container {\n",
              "      display:flex;\n",
              "      gap: 12px;\n",
              "    }\n",
              "\n",
              "    .colab-df-convert {\n",
              "      background-color: #E8F0FE;\n",
              "      border: none;\n",
              "      border-radius: 50%;\n",
              "      cursor: pointer;\n",
              "      display: none;\n",
              "      fill: #1967D2;\n",
              "      height: 32px;\n",
              "      padding: 0 0 0 0;\n",
              "      width: 32px;\n",
              "    }\n",
              "\n",
              "    .colab-df-convert:hover {\n",
              "      background-color: #E2EBFA;\n",
              "      box-shadow: 0px 1px 2px rgba(60, 64, 67, 0.3), 0px 1px 3px 1px rgba(60, 64, 67, 0.15);\n",
              "      fill: #174EA6;\n",
              "    }\n",
              "\n",
              "    .colab-df-buttons div {\n",
              "      margin-bottom: 4px;\n",
              "    }\n",
              "\n",
              "    [theme=dark] .colab-df-convert {\n",
              "      background-color: #3B4455;\n",
              "      fill: #D2E3FC;\n",
              "    }\n",
              "\n",
              "    [theme=dark] .colab-df-convert:hover {\n",
              "      background-color: #434B5C;\n",
              "      box-shadow: 0px 1px 3px 1px rgba(0, 0, 0, 0.15);\n",
              "      filter: drop-shadow(0px 1px 2px rgba(0, 0, 0, 0.3));\n",
              "      fill: #FFFFFF;\n",
              "    }\n",
              "  </style>\n",
              "\n",
              "    <script>\n",
              "      const buttonEl =\n",
              "        document.querySelector('#df-fa7844f5-f163-4909-89fb-e3d87545198c button.colab-df-convert');\n",
              "      buttonEl.style.display =\n",
              "        google.colab.kernel.accessAllowed ? 'block' : 'none';\n",
              "\n",
              "      async function convertToInteractive(key) {\n",
              "        const element = document.querySelector('#df-fa7844f5-f163-4909-89fb-e3d87545198c');\n",
              "        const dataTable =\n",
              "          await google.colab.kernel.invokeFunction('convertToInteractive',\n",
              "                                                    [key], {});\n",
              "        if (!dataTable) return;\n",
              "\n",
              "        const docLinkHtml = 'Like what you see? Visit the ' +\n",
              "          '<a target=\"_blank\" href=https://colab.research.google.com/notebooks/data_table.ipynb>data table notebook</a>'\n",
              "          + ' to learn more about interactive tables.';\n",
              "        element.innerHTML = '';\n",
              "        dataTable['output_type'] = 'display_data';\n",
              "        await google.colab.output.renderOutput(dataTable, element);\n",
              "        const docLink = document.createElement('div');\n",
              "        docLink.innerHTML = docLinkHtml;\n",
              "        element.appendChild(docLink);\n",
              "      }\n",
              "    </script>\n",
              "  </div>\n",
              "\n",
              "\n",
              "<div id=\"df-f2aaaf3c-59a4-472a-a0fd-93dab07075d8\">\n",
              "  <button class=\"colab-df-quickchart\" onclick=\"quickchart('df-f2aaaf3c-59a4-472a-a0fd-93dab07075d8')\"\n",
              "            title=\"Suggest charts\"\n",
              "            style=\"display:none;\">\n",
              "\n",
              "<svg xmlns=\"http://www.w3.org/2000/svg\" height=\"24px\"viewBox=\"0 0 24 24\"\n",
              "     width=\"24px\">\n",
              "    <g>\n",
              "        <path d=\"M19 3H5c-1.1 0-2 .9-2 2v14c0 1.1.9 2 2 2h14c1.1 0 2-.9 2-2V5c0-1.1-.9-2-2-2zM9 17H7v-7h2v7zm4 0h-2V7h2v10zm4 0h-2v-4h2v4z\"/>\n",
              "    </g>\n",
              "</svg>\n",
              "  </button>\n",
              "\n",
              "<style>\n",
              "  .colab-df-quickchart {\n",
              "      --bg-color: #E8F0FE;\n",
              "      --fill-color: #1967D2;\n",
              "      --hover-bg-color: #E2EBFA;\n",
              "      --hover-fill-color: #174EA6;\n",
              "      --disabled-fill-color: #AAA;\n",
              "      --disabled-bg-color: #DDD;\n",
              "  }\n",
              "\n",
              "  [theme=dark] .colab-df-quickchart {\n",
              "      --bg-color: #3B4455;\n",
              "      --fill-color: #D2E3FC;\n",
              "      --hover-bg-color: #434B5C;\n",
              "      --hover-fill-color: #FFFFFF;\n",
              "      --disabled-bg-color: #3B4455;\n",
              "      --disabled-fill-color: #666;\n",
              "  }\n",
              "\n",
              "  .colab-df-quickchart {\n",
              "    background-color: var(--bg-color);\n",
              "    border: none;\n",
              "    border-radius: 50%;\n",
              "    cursor: pointer;\n",
              "    display: none;\n",
              "    fill: var(--fill-color);\n",
              "    height: 32px;\n",
              "    padding: 0;\n",
              "    width: 32px;\n",
              "  }\n",
              "\n",
              "  .colab-df-quickchart:hover {\n",
              "    background-color: var(--hover-bg-color);\n",
              "    box-shadow: 0 1px 2px rgba(60, 64, 67, 0.3), 0 1px 3px 1px rgba(60, 64, 67, 0.15);\n",
              "    fill: var(--button-hover-fill-color);\n",
              "  }\n",
              "\n",
              "  .colab-df-quickchart-complete:disabled,\n",
              "  .colab-df-quickchart-complete:disabled:hover {\n",
              "    background-color: var(--disabled-bg-color);\n",
              "    fill: var(--disabled-fill-color);\n",
              "    box-shadow: none;\n",
              "  }\n",
              "\n",
              "  .colab-df-spinner {\n",
              "    border: 2px solid var(--fill-color);\n",
              "    border-color: transparent;\n",
              "    border-bottom-color: var(--fill-color);\n",
              "    animation:\n",
              "      spin 1s steps(1) infinite;\n",
              "  }\n",
              "\n",
              "  @keyframes spin {\n",
              "    0% {\n",
              "      border-color: transparent;\n",
              "      border-bottom-color: var(--fill-color);\n",
              "      border-left-color: var(--fill-color);\n",
              "    }\n",
              "    20% {\n",
              "      border-color: transparent;\n",
              "      border-left-color: var(--fill-color);\n",
              "      border-top-color: var(--fill-color);\n",
              "    }\n",
              "    30% {\n",
              "      border-color: transparent;\n",
              "      border-left-color: var(--fill-color);\n",
              "      border-top-color: var(--fill-color);\n",
              "      border-right-color: var(--fill-color);\n",
              "    }\n",
              "    40% {\n",
              "      border-color: transparent;\n",
              "      border-right-color: var(--fill-color);\n",
              "      border-top-color: var(--fill-color);\n",
              "    }\n",
              "    60% {\n",
              "      border-color: transparent;\n",
              "      border-right-color: var(--fill-color);\n",
              "    }\n",
              "    80% {\n",
              "      border-color: transparent;\n",
              "      border-right-color: var(--fill-color);\n",
              "      border-bottom-color: var(--fill-color);\n",
              "    }\n",
              "    90% {\n",
              "      border-color: transparent;\n",
              "      border-bottom-color: var(--fill-color);\n",
              "    }\n",
              "  }\n",
              "</style>\n",
              "\n",
              "  <script>\n",
              "    async function quickchart(key) {\n",
              "      const quickchartButtonEl =\n",
              "        document.querySelector('#' + key + ' button');\n",
              "      quickchartButtonEl.disabled = true;  // To prevent multiple clicks.\n",
              "      quickchartButtonEl.classList.add('colab-df-spinner');\n",
              "      try {\n",
              "        const charts = await google.colab.kernel.invokeFunction(\n",
              "            'suggestCharts', [key], {});\n",
              "      } catch (error) {\n",
              "        console.error('Error during call to suggestCharts:', error);\n",
              "      }\n",
              "      quickchartButtonEl.classList.remove('colab-df-spinner');\n",
              "      quickchartButtonEl.classList.add('colab-df-quickchart-complete');\n",
              "    }\n",
              "    (() => {\n",
              "      let quickchartButtonEl =\n",
              "        document.querySelector('#df-f2aaaf3c-59a4-472a-a0fd-93dab07075d8 button');\n",
              "      quickchartButtonEl.style.display =\n",
              "        google.colab.kernel.accessAllowed ? 'block' : 'none';\n",
              "    })();\n",
              "  </script>\n",
              "</div>\n",
              "\n",
              "    </div>\n",
              "  </div>\n"
            ],
            "application/vnd.google.colaboratory.intrinsic+json": {
              "type": "dataframe",
              "variable_name": "df",
              "summary": "{\n  \"name\": \"df\",\n  \"rows\": 9,\n  \"fields\": [\n    {\n      \"column\": \"population\",\n      \"properties\": {\n        \"dtype\": \"number\",\n        \"std\": 5982481,\n        \"min\": 311536594,\n        \"max\": 329725481,\n        \"num_unique_values\": 9,\n        \"samples\": [\n          314107084,\n          326569308,\n          318558162\n        ],\n        \"semantic_type\": \"\",\n        \"description\": \"\"\n      }\n    },\n    {\n      \"column\": \"year\",\n      \"properties\": {\n        \"dtype\": \"object\",\n        \"num_unique_values\": 9,\n        \"samples\": [\n          \"2014\",\n          \"2020\",\n          \"2016\"\n        ],\n        \"semantic_type\": \"\",\n        \"description\": \"\"\n      }\n    }\n  ]\n}"
            }
          },
          "metadata": {},
          "execution_count": 2
        }
      ]
    },
    {
      "cell_type": "code",
      "source": [
        "df.sort_values(by='year',ascending=True)"
      ],
      "metadata": {
        "colab": {
          "base_uri": "https://localhost:8080/",
          "height": 146
        },
        "id": "WxDfX-JCx84n",
        "outputId": "efdace9b-bafd-49e2-c525-decbf4aa3a2e"
      },
      "execution_count": null,
      "outputs": [
        {
          "output_type": "error",
          "ename": "NameError",
          "evalue": "name 'df' is not defined",
          "traceback": [
            "\u001b[0;31m---------------------------------------------------------------------------\u001b[0m",
            "\u001b[0;31mNameError\u001b[0m                                 Traceback (most recent call last)",
            "\u001b[0;32m<ipython-input-1-79de94d69da6>\u001b[0m in \u001b[0;36m<cell line: 1>\u001b[0;34m()\u001b[0m\n\u001b[0;32m----> 1\u001b[0;31m \u001b[0mdf\u001b[0m\u001b[0;34m.\u001b[0m\u001b[0msort_values\u001b[0m\u001b[0;34m(\u001b[0m\u001b[0mby\u001b[0m\u001b[0;34m=\u001b[0m\u001b[0;34m'year'\u001b[0m\u001b[0;34m,\u001b[0m\u001b[0mascending\u001b[0m\u001b[0;34m=\u001b[0m\u001b[0;32mTrue\u001b[0m\u001b[0;34m)\u001b[0m\u001b[0;34m\u001b[0m\u001b[0;34m\u001b[0m\u001b[0m\n\u001b[0m",
            "\u001b[0;31mNameError\u001b[0m: name 'df' is not defined"
          ]
        }
      ]
    },
    {
      "cell_type": "code",
      "source": [
        "import requests\n",
        "import pandas as pd\n",
        "dic={}\n",
        "url='https://api.agify.io/?name=lord'\n",
        "response=requests.get(url)\n",
        "if response.status_code==200:\n",
        "  info=response.json()\n",
        "  print(info['age'])"
      ],
      "metadata": {
        "colab": {
          "base_uri": "https://localhost:8080/"
        },
        "id": "0FZXzXpwyrmD",
        "outputId": "4286f3c7-9d0b-4496-9445-83f3cc3a0351"
      },
      "execution_count": null,
      "outputs": [
        {
          "output_type": "stream",
          "name": "stdout",
          "text": [
            "53\n"
          ]
        }
      ]
    },
    {
      "cell_type": "code",
      "source": [
        "df.max()"
      ],
      "metadata": {
        "colab": {
          "base_uri": "https://localhost:8080/"
        },
        "id": "WquTzV1h06pm",
        "outputId": "8369658e-8cdc-4e6c-e073-48bca1feb13c"
      },
      "execution_count": null,
      "outputs": [
        {
          "output_type": "execute_result",
          "data": {
            "text/plain": [
              "population    329725481\n",
              "year               2021\n",
              "dtype: object"
            ]
          },
          "metadata": {},
          "execution_count": 3
        }
      ]
    },
    {
      "cell_type": "code",
      "source": [
        "df.min()"
      ],
      "metadata": {
        "colab": {
          "base_uri": "https://localhost:8080/"
        },
        "id": "_9-EOjPPSlXM",
        "outputId": "0cbce0ac-d231-44b0-c105-1dc79bca9d46"
      },
      "execution_count": null,
      "outputs": [
        {
          "output_type": "execute_result",
          "data": {
            "text/plain": [
              "population    311536594\n",
              "year               2013\n",
              "dtype: object"
            ]
          },
          "metadata": {},
          "execution_count": 4
        }
      ]
    },
    {
      "cell_type": "code",
      "source": [
        "df['population'].mean()"
      ],
      "metadata": {
        "id": "4-GZbL-LYR_m",
        "colab": {
          "base_uri": "https://localhost:8080/"
        },
        "outputId": "edae895a-477a-4c94-b3b1-48c03e2ff730"
      },
      "execution_count": null,
      "outputs": [
        {
          "output_type": "execute_result",
          "data": {
            "text/plain": [
              "320624098.0"
            ]
          },
          "metadata": {},
          "execution_count": 5
        }
      ]
    },
    {
      "cell_type": "code",
      "source": [
        "df['population'].median()"
      ],
      "metadata": {
        "colab": {
          "base_uri": "https://localhost:8080/"
        },
        "id": "UfaEZCQ1Tu1w",
        "outputId": "858c575c-13e2-46ec-9407-f86810117fa0"
      },
      "execution_count": null,
      "outputs": [
        {
          "output_type": "execute_result",
          "data": {
            "text/plain": [
              "321004407.0"
            ]
          },
          "metadata": {},
          "execution_count": 6
        }
      ]
    },
    {
      "cell_type": "code",
      "source": [
        "df['population'].std()"
      ],
      "metadata": {
        "colab": {
          "base_uri": "https://localhost:8080/"
        },
        "id": "t8G_LNyvT1cw",
        "outputId": "7f672f42-9f6b-4024-d24d-a98735e0a4cb"
      },
      "execution_count": null,
      "outputs": [
        {
          "output_type": "execute_result",
          "data": {
            "text/plain": [
              "5982481.440369665"
            ]
          },
          "metadata": {},
          "execution_count": 7
        }
      ]
    },
    {
      "cell_type": "code",
      "source": [
        "import seaborn as sns\n",
        "x=sns.lineplot(x='year',y='population',data=df,color='r',markers='-').set(title=\"The lineplot\")"
      ],
      "metadata": {
        "colab": {
          "base_uri": "https://localhost:8080/",
          "height": 472
        },
        "id": "FuX0AlMsT6h1",
        "outputId": "9d730d09-3306-461c-cc8c-062c6ad00e97"
      },
      "execution_count": null,
      "outputs": [
        {
          "output_type": "display_data",
          "data": {
            "text/plain": [
              "<Figure size 640x480 with 1 Axes>"
            ],
            "image/png": "[encoded data removed]"
          },
          "metadata": {}
        }
      ]
    },
    {
      "cell_type": "code",
      "source": [
        "import requests\n",
        "dic={}\n",
        "key =\"pk_356ccb37d932494daa8fdf3a3b368186\"\n",
        "url=f'https://api.iex.cloud/v1/data/core/historical_prices/msft?range=2m&token={key}'\n",
        "response=requests.get(url)\n",
        "if response.status_code==200:\n",
        "  iex=response.json()\n",
        "\n",
        "\n",
        "\n",
        "for data_dic in iex:\n",
        "    dic[data_dic['priceDate']]=data_dic['close']\n",
        "print(dic)\n",
        "df=pd.DataFrame({'date':dic.keys(),'closing_price':dic.values()})\n",
        "df\n"
      ],
      "metadata": {
        "id": "4FTTH2t80fiw"
      },
      "execution_count": null,
      "outputs": []
    },
    {
      "cell_type": "code",
      "source": [
        "df.T"
      ],
      "metadata": {
        "id": "UyC4UrIj227I"
      },
      "execution_count": null,
      "outputs": []
    },
    {
      "cell_type": "code",
      "source": [
        "import requests\n",
        "url='https://api.coindesk.com/v1/bpi/currentprice.json'\n",
        "response=requests.get(url)\n",
        "if response.status_code==200:\n",
        "  coin=response.json()\n",
        "  print(\"Pokemon Types:\", [type['type']['name'] for type in pokemon_data['types']])"
      ],
      "metadata": {
        "colab": {
          "base_uri": "https://localhost:8080/",
          "height": 182
        },
        "id": "-Kw9-WGB5xJ3",
        "outputId": "27661a3c-0344-4d2c-9abc-f2cd0c03680b"
      },
      "execution_count": null,
      "outputs": [
        {
          "output_type": "error",
          "ename": "TypeError",
          "evalue": "string indices must be integers",
          "traceback": [
            "\u001b[0;31m---------------------------------------------------------------------------\u001b[0m",
            "\u001b[0;31mTypeError\u001b[0m                                 Traceback (most recent call last)",
            "\u001b[0;32m<ipython-input-57-337fc3726b6a>\u001b[0m in \u001b[0;36m<cell line: 6>\u001b[0;34m()\u001b[0m\n\u001b[1;32m      5\u001b[0m   \u001b[0mcoin\u001b[0m\u001b[0;34m=\u001b[0m\u001b[0mresponse\u001b[0m\u001b[0;34m.\u001b[0m\u001b[0mjson\u001b[0m\u001b[0;34m(\u001b[0m\u001b[0;34m)\u001b[0m\u001b[0;34m\u001b[0m\u001b[0;34m\u001b[0m\u001b[0m\n\u001b[1;32m      6\u001b[0m \u001b[0;32mfor\u001b[0m \u001b[0mi\u001b[0m \u001b[0;32min\u001b[0m \u001b[0mcoin\u001b[0m\u001b[0;34m:\u001b[0m\u001b[0;34m\u001b[0m\u001b[0;34m\u001b[0m\u001b[0m\n\u001b[0;32m----> 7\u001b[0;31m   \u001b[0mprint\u001b[0m\u001b[0;34m(\u001b[0m\u001b[0mi\u001b[0m\u001b[0;34m[\u001b[0m\u001b[0;34m\"disclaimer\"\u001b[0m\u001b[0;34m]\u001b[0m\u001b[0;34m)\u001b[0m\u001b[0;34m\u001b[0m\u001b[0;34m\u001b[0m\u001b[0m\n\u001b[0m",
            "\u001b[0;31mTypeError\u001b[0m: string indices must be integers"
          ]
        }
      ]
    },
    {
      "cell_type": "code",
      "source": [
        "import requests\n",
        "url='https://ipinfo.io/{ip_ad}/geo'\n",
        "ip_ad= '151.101.193.69'\n",
        "response=requests.get(url)\n",
        "if response.status_code==200:\n",
        "  coin=response.json()\n",
        "  print(coin)"
      ],
      "metadata": {
        "id": "GV0wa2ylsxmM"
      },
      "execution_count": null,
      "outputs": []
    },
    {
      "cell_type": "code",
      "source": [
        "import requests\n",
        "\n",
        "ip_ad=[\n",
        "    '8.8.8.8',     # Google Public DNS\n",
        "    '208.80.152.2', # OpenDNS\n",
        "    '4.2.2.1',     # Level 3 DNS\n",
        "    '1.1.1.1',     # Cloudflare DNS\n",
        "    '185.199.108.133', # GitHub\n",
        "    '13.107.42.13',    # Microsoft\n",
        "    '151.101.193.69',  # Wikipedia\n",
        "    '45.33.49.119',    # Linode\n",
        "    '162.159.26.201',  # Cloudflare\n",
        "]\n",
        "\n",
        "dic={}\n",
        "for i in ip_ad:\n",
        "  url=f\"https://ipinfo.io/{i}/geo\"\n",
        "  response=requests.get(url)\n",
        "  if response.status_code==200:\n",
        "    geo=response.json()\n",
        "    dic[geo['city']]=geo['region'],geo['timezone'],geo['postal'],geo['loc']\n",
        "print(dic)\n",
        "#   df=pd.DataFrame({'city':dic.keys(),'info':dic.values()})\n",
        "# df\n",
        "\n",
        "  #print(geo[\"city\"],geo[\"region\"],geo['postal'],geo['loc'],geo['timezone'])\n",
        "\n",
        "\n"
      ],
      "metadata": {
        "colab": {
          "base_uri": "https://localhost:8080/"
        },
        "id": "s7mOSfSQl5lQ",
        "outputId": "dfe30c62-506e-4226-84b3-db4cfaff83df"
      },
      "execution_count": null,
      "outputs": [
        {
          "output_type": "stream",
          "name": "stdout",
          "text": [
            "{'Mountain View': ('California', 'America/Los_Angeles', '94043', '37.4056,-122.0775'), 'Dallas': ('Texas', 'America/Chicago', '75201', '32.7831,-96.8067'), 'Ward': ('South Carolina', 'America/New_York', '29166', '33.8579,-81.7298'), 'The Rocks': ('New South Wales', 'Australia/Sydney', '2000', '-33.8592,151.2081'), 'San Francisco': ('California', 'America/Los_Angeles', '94107', '37.7621,-122.3971'), 'Redmond': ('Washington', 'America/Los_Angeles', '98052', '47.6740,-122.1215'), 'Fremont': ('California', 'America/Los_Angeles', '94536', '37.5483,-121.9886')}\n"
          ]
        }
      ]
    },
    {
      "cell_type": "code",
      "source": [
        "for i in dic.items():\n",
        "  print(i)"
      ],
      "metadata": {
        "colab": {
          "base_uri": "https://localhost:8080/"
        },
        "id": "tdbE-Izu6COp",
        "outputId": "7a294421-701a-44c6-c23f-88b496a45fa7"
      },
      "execution_count": null,
      "outputs": [
        {
          "output_type": "stream",
          "name": "stdout",
          "text": [
            "('San Francisco', ('California', '94107', '37.7621,-122.3971', 'America/Los_Angeles'))\n"
          ]
        }
      ]
    },
    {
      "cell_type": "code",
      "source": [
        "import requests\n",
        "ip_ad=[\n",
        "    '8.8.8.8',     # Google Public DNS\n",
        "    '208.80.152.2', # OpenDNS\n",
        "    '4.2.2.1',     # Level 3 DNS\n",
        "    '1.1.1.1',     # Cloudflare DNS\n",
        "    '185.199.108.133', # GitHub\n",
        "    '13.107.42.13',    # Microsoft\n",
        "    '151.101.193.69',  # Wikipedia\n",
        "    '45.33.49.119',    # Linode\n",
        "    '162.159.26.201',  # Cloudflare\n",
        "]\n",
        "dic={}\n",
        "for i in ip_ad:\n",
        "  url==f\"https://ipinfo.io/{i}/geo\"\n",
        "  response=requests.get(url)\n",
        "  if response.status_code==200:\n",
        "    geo=response.json()\n",
        "    dic[geo['city']]=geo['region'],geo['postal'],geo['loc'],geo['timezone']\n",
        "print(dic)\n"
      ],
      "metadata": {
        "colab": {
          "base_uri": "https://localhost:8080/"
        },
        "id": "IhOkM8MdnvKt",
        "outputId": "c14b86fe-4e8a-4b35-fa2a-c8d54605cfca"
      },
      "execution_count": null,
      "outputs": [
        {
          "output_type": "stream",
          "name": "stdout",
          "text": [
            "{'San Francisco': ('California', '94107', '37.7621,-122.3971', 'America/Los_Angeles')}\n"
          ]
        }
      ]
    },
    {
      "cell_type": "code",
      "source": [
        "for i in dic.items():\n",
        "  print(i)"
      ],
      "metadata": {
        "colab": {
          "base_uri": "https://localhost:8080/"
        },
        "id": "dQ40wqklDzT1",
        "outputId": "74a5ebd6-db8a-4eac-c6be-e5ce1899247d"
      },
      "execution_count": null,
      "outputs": [
        {
          "output_type": "stream",
          "name": "stdout",
          "text": [
            "('San Francisco', ('California', '94107', '37.7621,-122.3971', 'America/Los_Angeles'))\n"
          ]
        }
      ]
    },
    {
      "cell_type": "markdown",
      "source": [
        "What is the latest date for which data is available?\n",
        "b. What is the opening price, highest price, lowest price, closing price, and volume for the latest available date?\n",
        "c. Calculate the difference between the opening and closing prices for the latest available date. What does this difference signify?\n",
        "d. Calculate the daily percentage change in price (closing price) from the second latest date to the latest date. What does this percentage change indicate?\n",
        "e. Identify the date with the highest trading volume."
      ],
      "metadata": {
        "id": "62Ipasni1Zfa"
      }
    },
    {
      "cell_type": "code",
      "source": [
        "import requests\n",
        "url=f'https://www.alphavantage.co/query?function=TIME_SERIES_DAILY&symbol=IBM&apikey=demo'\n",
        "response=requests.get(url)\n",
        "if response.status_code==200:\n",
        "  alpha=response.json()\n",
        "  print(alpha[\"Time Series (Daily)\"][ \"2024-03-26\"])\n",
        "  print(round(float(alpha [\"Time Series (Daily)\"][ \"2024-03-26\"]['1. open'])-(float(alpha [\"Time Series (Daily)\"][ \"2024-03-26\"]['4. close'])),2))\n"
      ],
      "metadata": {
        "colab": {
          "base_uri": "https://localhost:8080/"
        },
        "id": "MfN6nABQ0sz-",
        "outputId": "76b4559f-7a6d-425b-952f-539c0a8e6d06"
      },
      "execution_count": null,
      "outputs": [
        {
          "output_type": "stream",
          "name": "stdout",
          "text": [
            "{'1. open': '189.0200', '2. high': '190.0000', '3. low': '188.5000', '4. close': '188.5000', '5. volume': '4229535'}\n",
            "0.52\n"
          ]
        }
      ]
    },
    {
      "cell_type": "code",
      "source": [
        "final=float(alpha[\"Time Series (Daily)\"][ \"2024-03-26\"]['4. close'])\n",
        "initial=float(alpha[\"Time Series (Daily)\"][ \"2024-03-25\"]['4. close'])\n"
      ],
      "metadata": {
        "id": "SS41d-TIHPnv"
      },
      "execution_count": null,
      "outputs": []
    },
    {
      "cell_type": "code",
      "source": [
        "result= ((final-initial)/initial)*100\n",
        "result"
      ],
      "metadata": {
        "colab": {
          "base_uri": "https://localhost:8080/"
        },
        "id": "wDoEiKJcK_53",
        "outputId": "26046865-105d-4644-a186-71e48a4cb730"
      },
      "execution_count": null,
      "outputs": [
        {
          "output_type": "execute_result",
          "data": {
            "text/plain": [
              "-0.15360983102918166"
            ]
          },
          "metadata": {},
          "execution_count": 26
        }
      ]
    },
    {
      "cell_type": "code",
      "source": [
        "float('189.0200')-float('188.5000')"
      ],
      "metadata": {
        "colab": {
          "base_uri": "https://localhost:8080/"
        },
        "id": "C4Qni-x5F31m",
        "outputId": "d9c394ad-0593-49ba-ae97-2035fe409f8b"
      },
      "execution_count": null,
      "outputs": [
        {
          "output_type": "execute_result",
          "data": {
            "text/plain": [
              "0.5200000000000102"
            ]
          },
          "metadata": {},
          "execution_count": 16
        }
      ]
    },
    {
      "cell_type": "markdown",
      "source": [
        " Identify the date with the highest trading volume."
      ],
      "metadata": {
        "id": "rvR7A3hBLf3X"
      }
    },
    {
      "cell_type": "code",
      "source": [
        "max_vol=0\n",
        "max_vol_date=0\n",
        "for key,value in alpha[\"Time Series (Daily)\"].items():\n",
        "  if int(value['5. volume'])>max_vol:\n",
        "    max_vol=int(value['5. volume'])\n",
        "    max_vol_date=key\n",
        "print(max_vol)\n",
        "print(max_vol_date)\n"
      ],
      "metadata": {
        "colab": {
          "base_uri": "https://localhost:8080/"
        },
        "id": "Ca2WCOX7Lm7p",
        "outputId": "f1b2ca6a-2c88-4f98-b84c-c2f738e3361a"
      },
      "execution_count": null,
      "outputs": [
        {
          "output_type": "stream",
          "name": "stdout",
          "text": [
            "29596239\n",
            "2024-01-25\n"
          ]
        }
      ]
    },
    {
      "cell_type": "code",
      "source": [
        "alpha[\"Time Series (Daily)\"].items()"
      ],
      "metadata": {
        "colab": {
          "base_uri": "https://localhost:8080/"
        },
        "id": "m964S5PeNY_4",
        "outputId": "f922f4d3-c560-45d0-84ac-7a102351dc80"
      },
      "execution_count": null,
      "outputs": [
        {
          "output_type": "execute_result",
          "data": {
            "text/plain": [
              "dict_items([('2024-03-26', {'1. open': '189.0200', '2. high': '190.0000', '3. low': '188.5000', '4. close': '188.5000', '5. volume': '4229535'}), ('2024-03-25', {'1. open': '190.2600', '2. high': '190.8200', '3. low': '188.7500', '4. close': '188.7900', '5. volume': '3718289'}), ('2024-03-22', {'1. open': '192.0000', '2. high': '192.9850', '3. low': '190.5100', '4. close': '190.8400', '5. volume': '3988398'}), ('2024-03-21', {'1. open': '193.0000', '2. high': '193.3700', '3. low': '190.0100', '4. close': '191.9000', '5. volume': '6013561'}), ('2024-03-20', {'1. open': '192.8700', '2. high': '193.9800', '3. low': '191.3100', '4. close': '193.9600', '5. volume': '3238643'}), ('2024-03-19', {'1. open': '191.4900', '2. high': '193.5800', '3. low': '190.2800', '4. close': '193.3400', '5. volume': '5317341'}), ('2024-03-18', {'1. open': '191.7000', '2. high': '193.2300', '3. low': '190.3200', '4. close': '191.6900', '5. volume': '5410562'}), ('2024-03-15', {'1. open': '191.9900', '2. high': '193.0573', '3. low': '190.7000', '4. close': '191.0700', '5. volume': '8828184'}), ('2024-03-14', {'1. open': '196.9500', '2. high': '197.7480', '3. low': '192.1200', '4. close': '193.4300', '5. volume': '4102202'}), ('2024-03-13', {'1. open': '197.5500', '2. high': '198.1000', '3. low': '195.3200', '4. close': '196.7000', '5. volume': '3960737'}), ('2024-03-12', {'1. open': '192.4600', '2. high': '199.1800', '3. low': '192.1500', '4. close': '197.7800', '5. volume': '5862512'}), ('2024-03-11', {'1. open': '195.0900', '2. high': '195.3800', '3. low': '190.8800', '4. close': '191.7300', '5. volume': '4712688'}), ('2024-03-08', {'1. open': '196.0600', '2. high': '197.7700', '3. low': '194.3800', '4. close': '195.9500', '5. volume': '3943113'}), ('2024-03-07', {'1. open': '197.5800', '2. high': '198.7300', '3. low': '196.1400', '4. close': '196.5400', '5. volume': '4604458'}), ('2024-03-06', {'1. open': '193.5000', '2. high': '198.1300', '3. low': '192.9600', '4. close': '196.1600', '5. volume': '6945818'}), ('2024-03-05', {'1. open': '192.0000', '2. high': '193.9400', '3. low': '190.5700', '4. close': '191.9500', '5. volume': '5653641'}), ('2024-03-04', {'1. open': '187.7600', '2. high': '193.8980', '3. low': '187.6000', '4. close': '193.0600', '5. volume': '7938266'}), ('2024-03-01', {'1. open': '185.4900', '2. high': '188.3800', '3. low': '185.1800', '4. close': '188.2000', '5. volume': '4018354'}), ('2024-02-29', {'1. open': '186.1500', '2. high': '186.8495', '3. low': '184.6900', '4. close': '185.0300', '5. volume': '6458487'}), ('2024-02-28', {'1. open': '184.6300', '2. high': '185.3700', '3. low': '183.5500', '4. close': '185.3000', '5. volume': '3216345'}), ('2024-02-27', {'1. open': '184.1600', '2. high': '185.1300', '3. low': '182.6200', '4. close': '184.8700', '5. volume': '3641378'}), ('2024-02-26', {'1. open': '185.6000', '2. high': '186.1250', '3. low': '184.0600', '4. close': '184.1300', '5. volume': '4620815'}), ('2024-02-23', {'1. open': '184.9000', '2. high': '186.4550', '3. low': '184.5700', '4. close': '185.7200', '5. volume': '3433800'}), ('2024-02-22', {'1. open': '182.4500', '2. high': '184.5500', '3. low': '181.9300', '4. close': '184.2100', '5. volume': '5078398'}), ('2024-02-21', {'1. open': '182.5600', '2. high': '183.0300', '3. low': '178.7500', '4. close': '179.7000', '5. volume': '4728473'}), ('2024-02-20', {'1. open': '187.6400', '2. high': '188.7700', '3. low': '183.0600', '4. close': '183.4400', '5. volume': '4247181'}), ('2024-02-16', {'1. open': '186.6300', '2. high': '188.9500', '3. low': '185.9452', '4. close': '187.6400', '5. volume': '4842840'}), ('2024-02-15', {'1. open': '183.6200', '2. high': '186.9800', '3. low': '183.6200', '4. close': '186.8700', '5. volume': '4714301'}), ('2024-02-14', {'1. open': '185.0000', '2. high': '185.0000', '3. low': '182.2600', '4. close': '183.5700', '5. volume': '3173391'}), ('2024-02-13', {'1. open': '184.2800', '2. high': '184.7700', '3. low': '182.3600', '4. close': '183.7000', '5. volume': '4290453'}), ('2024-02-12', {'1. open': '185.9000', '2. high': '186.4800', '3. low': '184.0300', '4. close': '186.1600', '5. volume': '4724021'}), ('2024-02-09', {'1. open': '184.4400', '2. high': '187.1800', '3. low': '183.8500', '4. close': '186.3400', '5. volume': '5064641'}), ('2024-02-08', {'1. open': '182.6300', '2. high': '184.5500', '3. low': '181.4900', '4. close': '184.3600', '5. volume': '5161185'}), ('2024-02-07', {'1. open': '183.3400', '2. high': '184.0200', '3. low': '182.6250', '4. close': '183.7400', '5. volume': '4841188'}), ('2024-02-06', {'1. open': '183.5500', '2. high': '184.6800', '3. low': '183.0400', '4. close': '183.4100', '5. volume': '3338196'}), ('2024-02-05', {'1. open': '185.5100', '2. high': '185.7800', '3. low': '183.2550', '4. close': '183.4200', '5. volume': '4379602'}), ('2024-02-02', {'1. open': '187.1000', '2. high': '187.3900', '3. low': '185.6150', '4. close': '185.7900', '5. volume': '4055411'}), ('2024-02-01', {'1. open': '183.6300', '2. high': '187.5100', '3. low': '182.7100', '4. close': '186.9000', '5. volume': '4669444'}), ('2024-01-31', {'1. open': '187.0500', '2. high': '187.6500', '3. low': '183.1400', '4. close': '183.6600', '5. volume': '8876055'}), ('2024-01-30', {'1. open': '187.7100', '2. high': '188.6500', '3. low': '186.7700', '4. close': '187.8700', '5. volume': '4575058'}), ('2024-01-29', {'1. open': '187.4600', '2. high': '189.4600', '3. low': '186.0500', '4. close': '187.1400', '5. volume': '6107908'}), ('2024-01-26', {'1. open': '191.3100', '2. high': '192.3896', '3. low': '186.1600', '4. close': '187.4200', '5. volume': '9895941'}), ('2024-01-25', {'1. open': '184.9600', '2. high': '196.9000', '3. low': '184.8300', '4. close': '190.4300', '5. volume': '29596239'}), ('2024-01-24', {'1. open': '174.7600', '2. high': '174.8600', '3. low': '172.9000', '4. close': '173.9300', '5. volume': '7831157'}), ('2024-01-23', {'1. open': '172.9000', '2. high': '174.0200', '3. low': '172.4800', '4. close': '173.9400', '5. volume': '3983461'}), ('2024-01-22', {'1. open': '172.8200', '2. high': '174.4500', '3. low': '172.4000', '4. close': '172.8300', '5. volume': '4925964'}), ('2024-01-19', {'1. open': '170.5900', '2. high': '171.5791', '3. low': '169.1800', '4. close': '171.4800', '5. volume': '6929079'}), ('2024-01-18', {'1. open': '166.4900', '2. high': '166.9900', '3. low': '165.0400', '4. close': '166.8400', '5. volume': '3776990'}), ('2024-01-17', {'1. open': '166.7900', '2. high': '167.8200', '3. low': '165.4950', '4. close': '166.0800', '5. volume': '4288604'}), ('2024-01-16', {'1. open': '165.8000', '2. high': '167.2500', '3. low': '165.3400', '4. close': '166.9600', '5. volume': '4869635'}), ('2024-01-12', {'1. open': '162.9700', '2. high': '165.9800', '3. low': '162.3550', '4. close': '165.8000', '5. volume': '4958261'}), ('2024-01-11', {'1. open': '161.0200', '2. high': '162.2300', '3. low': '160.2900', '4. close': '162.1600', '5. volume': '3778395'}), ('2024-01-10', {'1. open': '160.2800', '2. high': '161.3400', '3. low': '159.7400', '4. close': '161.2300', '5. volume': '2967852'}), ('2024-01-09', {'1. open': '160.0000', '2. high': '160.4837', '3. low': '159.5100', '4. close': '160.0800', '5. volume': '2617186'}), ('2024-01-08', {'1. open': '158.6900', '2. high': '161.2160', '3. low': '157.8850', '4. close': '161.1400', '5. volume': '3321698'}), ('2024-01-05', {'1. open': '159.9100', '2. high': '160.5500', '3. low': '158.6700', '4. close': '159.1600', '5. volume': '3698961'}), ('2024-01-04', {'1. open': '160.2200', '2. high': '161.8100', '3. low': '160.1700', '4. close': '160.8600', '5. volume': '3212004'}), ('2024-01-03', {'1. open': '161.0000', '2. high': '161.7300', '3. low': '160.0800', '4. close': '160.1000', '5. volume': '4086065'}), ('2024-01-02', {'1. open': '162.8300', '2. high': '163.2900', '3. low': '160.4600', '4. close': '161.5000', '5. volume': '3825044'}), ('2023-12-29', {'1. open': '163.7500', '2. high': '164.1800', '3. low': '162.8300', '4. close': '163.5500', '5. volume': '2526169'}), ('2023-12-28', {'1. open': '163.9600', '2. high': '163.9600', '3. low': '163.4000', '4. close': '163.7500', '5. volume': '2071313'}), ('2023-12-27', {'1. open': '163.1400', '2. high': '163.6400', '3. low': '162.6800', '4. close': '163.4600', '5. volume': '3006612'}), ('2023-12-26', {'1. open': '162.2300', '2. high': '163.3100', '3. low': '162.0500', '4. close': '163.2100', '5. volume': '1772443'}), ('2023-12-22', {'1. open': '161.1000', '2. high': '162.4100', '3. low': '161.0000', '4. close': '162.1400', '5. volume': '2442715'}), ('2023-12-21', {'1. open': '160.5900', '2. high': '161.0800', '3. low': '159.5300', '4. close': '160.7800', '5. volume': '2982924'}), ('2023-12-20', {'1. open': '161.2900', '2. high': '161.8000', '3. low': '160.0100', '4. close': '160.0500', '5. volume': '4865797'}), ('2023-12-19', {'1. open': '161.8000', '2. high': '162.2800', '3. low': '161.3200', '4. close': '161.5600', '5. volume': '3717429'}), ('2023-12-18', {'1. open': '162.2300', '2. high': '163.3300', '3. low': '161.5766', '4. close': '162.7400', '5. volume': '3677533'}), ('2023-12-15', {'1. open': '162.3000', '2. high': '164.0900', '3. low': '162.0400', '4. close': '162.2300', '5. volume': '11016108'}), ('2023-12-14', {'1. open': '162.9300', '2. high': '163.4990', '3. low': '160.1490', '4. close': '162.9100', '5. volume': '6129804'}), ('2023-12-13', {'1. open': '164.3700', '2. high': '164.9653', '3. low': '162.7350', '4. close': '163.6200', '5. volume': '4989141'}), ('2023-12-12', {'1. open': '163.2700', '2. high': '166.3400', '3. low': '162.9200', '4. close': '164.7100', '5. volume': '5292290'}), ('2023-12-11', {'1. open': '162.6800', '2. high': '163.6500', '3. low': '161.9500', '4. close': '163.5100', '5. volume': '6077207'}), ('2023-12-08', {'1. open': '160.0000', '2. high': '162.0400', '3. low': '160.0000', '4. close': '161.9600', '5. volume': '4561342'}), ('2023-12-07', {'1. open': '161.0000', '2. high': '161.4650', '3. low': '159.9700', '4. close': '160.2200', '5. volume': '3665498'}), ('2023-12-06', {'1. open': '161.5900', '2. high': '162.3550', '3. low': '160.0100', '4. close': '160.2800', '5. volume': '3356432'}), ('2023-12-05', {'1. open': '160.7600', '2. high': '162.4700', '3. low': '160.7200', '4. close': '161.3900', '5. volume': '4556668'}), ('2023-12-04', {'1. open': '160.2900', '2. high': '162.7900', '3. low': '160.2900', '4. close': '161.1000', '5. volume': '5779017'}), ('2023-12-01', {'1. open': '158.4100', '2. high': '160.5900', '3. low': '158.0000', '4. close': '160.5500', '5. volume': '4871860'}), ('2023-11-30', {'1. open': '156.9500', '2. high': '158.6000', '3. low': '156.8900', '4. close': '158.5600', '5. volume': '6740622'}), ('2023-11-29', {'1. open': '156.1500', '2. high': '157.5100', '3. low': '156.0200', '4. close': '156.4100', '5. volume': '3568887'}), ('2023-11-28', {'1. open': '155.4400', '2. high': '155.7450', '3. low': '154.8600', '4. close': '155.6500', '5. volume': '2666182'}), ('2023-11-27', {'1. open': '154.9900', '2. high': '156.1350', '3. low': '154.7500', '4. close': '155.5700', '5. volume': '4053093'}), ('2023-11-24', {'1. open': '155.1300', '2. high': '155.4000', '3. low': '153.9200', '4. close': '155.1800', '5. volume': '1799161'}), ('2023-11-22', {'1. open': '154.5000', '2. high': '155.7050', '3. low': '154.1600', '4. close': '155.1300', '5. volume': '3045091'}), ('2023-11-21', {'1. open': '154.6000', '2. high': '154.6600', '3. low': '153.5100', '4. close': '153.9100', '5. volume': '2859508'}), ('2023-11-20', {'1. open': '152.5100', '2. high': '154.6800', '3. low': '152.3500', '4. close': '154.3500', '5. volume': '3658936'}), ('2023-11-17', {'1. open': '153.2900', '2. high': '153.5000', '3. low': '152.4601', '4. close': '152.8900', '5. volume': '4426676'}), ('2023-11-16', {'1. open': '153.0000', '2. high': '153.3500', '3. low': '152.1300', '4. close': '153.0600', '5. volume': '3519172'}), ('2023-11-15', {'1. open': '150.4000', '2. high': '153.2200', '3. low': '150.4000', '4. close': '152.5800', '5. volume': '4632519'}), ('2023-11-14', {'1. open': '149.4500', '2. high': '150.8063', '3. low': '149.0500', '4. close': '150.4100', '5. volume': '4321940'}), ('2023-11-13', {'1. open': '148.4600', '2. high': '148.4900', '3. low': '147.3500', '4. close': '148.1000', '5. volume': '2647288'}), ('2023-11-10', {'1. open': '147.4400', '2. high': '149.1700', '3. low': '146.8500', '4. close': '149.0200', '5. volume': '3179541'}), ('2023-11-09', {'1. open': '146.5500', '2. high': '146.9900', '3. low': '145.2800', '4. close': '146.6200', '5. volume': '3412713'}), ('2023-11-08', {'1. open': '149.2500', '2. high': '149.6800', '3. low': '147.5850', '4. close': '148.0300', '5. volume': '3618588'}), ('2023-11-07', {'1. open': '149.0300', '2. high': '149.2800', '3. low': '148.0300', '4. close': '148.8300', '5. volume': '3549853'}), ('2023-11-06', {'1. open': '147.8900', '2. high': '149.2250', '3. low': '147.8500', '4. close': '148.9700', '5. volume': '4597249'}), ('2023-11-03', {'1. open': '147.4500', '2. high': '148.4450', '3. low': '147.2800', '4. close': '147.9000', '5. volume': '3510495'}), ('2023-11-02', {'1. open': '145.7700', '2. high': '147.1000', '3. low': '144.8400', '4. close': '147.0100', '5. volume': '3902657'}), ('2023-11-01', {'1. open': '145.0000', '2. high': '146.5100', '3. low': '144.4500', '4. close': '145.4000', '5. volume': '4750081'})])"
            ]
          },
          "metadata": {},
          "execution_count": 33
        }
      ]
    }
  ]
}