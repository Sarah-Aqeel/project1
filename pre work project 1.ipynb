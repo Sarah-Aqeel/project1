{
 "cells": [
  {
   "cell_type": "code",
   "execution_count": 4,
   "metadata": {},
   "outputs": [
    {
     "name": "stdout",
     "output_type": "stream",
     "text": [
      "hello Sarah\n"
     ]
    }
   ],
   "source": [
    "#Question 1\n",
    "#Write a function to print \"hello_USERNAME!\" USERNAME is the input of the function. The first line of the code has been defined as below.\n",
    "\n",
    "def hello_name(user_name):\n",
    " print('hello '+ user_name)\n",
    "\n",
    "hello_name(\"Sarah\")\n",
    " \n",
    "   "
   ]
  },
  {
   "cell_type": "code",
   "execution_count": 7,
   "metadata": {},
   "outputs": [
    {
     "name": "stdout",
     "output_type": "stream",
     "text": [
      "1\n",
      "3\n",
      "5\n",
      "7\n",
      "9\n",
      "11\n",
      "13\n",
      "15\n",
      "17\n",
      "19\n",
      "21\n",
      "23\n",
      "25\n",
      "27\n",
      "29\n",
      "31\n",
      "33\n",
      "35\n",
      "37\n",
      "39\n",
      "41\n",
      "43\n",
      "45\n",
      "47\n",
      "49\n",
      "51\n",
      "53\n",
      "55\n",
      "57\n",
      "59\n",
      "61\n",
      "63\n",
      "65\n",
      "67\n",
      "69\n",
      "71\n",
      "73\n",
      "75\n",
      "77\n",
      "79\n",
      "81\n",
      "83\n",
      "85\n",
      "87\n",
      "89\n",
      "91\n",
      "93\n",
      "95\n",
      "97\n",
      "99\n"
     ]
    }
   ],
   "source": [
    "# Question 2\n",
    "# Write a python function, first_odds that prints the odd numbers from 1-100 and returns nothing\n",
    "\n",
    "def first_odds():\n",
    "  for i in range(1,100):\n",
    "     if i%2!=0:\n",
    "        print(i)\n",
    "\n",
    "first_odds()\n"
   ]
  },
  {
   "cell_type": "code",
   "execution_count": 9,
   "metadata": {},
   "outputs": [
    {
     "name": "stdout",
     "output_type": "stream",
     "text": [
      "Maximum num is 78\n"
     ]
    }
   ],
   "source": [
    "# Question 3\n",
    "# Please write a Python function, max_num_in_list to return the max number of a given list. The first line of the code has been defined as below.\n",
    "\n",
    "def max_num_in_list(a_list):\n",
    "   max = a_list[0]\n",
    "   for i in a_list:\n",
    "     if (i > max):\n",
    "      max = i\n",
    "\n",
    "   return max\n",
    "   \n",
    "a_list = [1,2,3,4,54,78]\n",
    "\n",
    "max=max_num_in_list(a_list)\n",
    "\n",
    "print(\"Maximum num is\" , max)"
   ]
  },
  {
   "cell_type": "code",
   "execution_count": 10,
   "metadata": {},
   "outputs": [
    {
     "name": "stdout",
     "output_type": "stream",
     "text": [
      "it is a leap year\n",
      "True\n"
     ]
    }
   ],
   "source": [
    "# Question 4\n",
    "# Write a function to return if the given year is a leap year. A leap year is divisible by 4, but not divisible by 100, unless it is also divisible by 400. The return should be boolean Type (true/false).\n",
    "\n",
    "def is_leap_year(a_year): \n",
    "    if (a_year%4==0):\n",
    "        print(\"it is a leap year\")\n",
    "        return True\n",
    "    elif (a_year%100!=0) or (a_year%400==0):\n",
    "        print(\"it is not a leap year\")\n",
    "        return False\n",
    "    \n",
    "print(is_leap_year(2024))"
   ]
  },
  {
   "cell_type": "code",
   "execution_count": 12,
   "metadata": {},
   "outputs": [
    {
     "name": "stdout",
     "output_type": "stream",
     "text": [
      "True\n"
     ]
    }
   ],
   "source": [
    "# Question 5\n",
    "# Write a function to check to see if all numbers in list are consecutive numbers. For example, [2,3,4,5,6,7] are consecutive numbers, but [1,2,4,5] are not consecutive numbers. The return should be boolean Type.\n",
    "\n",
    "#a_list=[1,2,3,4,5]\n",
    "def is_consecutive(a_list):\n",
    "    for i in range(0,len(a_list)-1):\n",
    "        if (a_list[i]+1) != a_list[i+1]:\n",
    "          return False\n",
    "    else:\n",
    "          return True\n",
    "\n",
    "print(is_consecutive([1,2,3,4,5,6]))"
   ]
  }
 ],
 "metadata": {
  "kernelspec": {
   "display_name": "Python 3",
   "language": "python",
   "name": "python3"
  },
  "language_info": {
   "codemirror_mode": {
    "name": "ipython",
    "version": 3
   },
   "file_extension": ".py",
   "mimetype": "text/x-python",
   "name": "python",
   "nbconvert_exporter": "python",
   "pygments_lexer": "ipython3",
   "version": "3.10.6"
  }
 },
 "nbformat": 4,
 "nbformat_minor": 2
}
