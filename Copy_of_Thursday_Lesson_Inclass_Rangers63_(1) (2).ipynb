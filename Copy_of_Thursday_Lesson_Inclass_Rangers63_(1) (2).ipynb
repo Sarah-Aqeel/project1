{
  "cells": [
    {
      "cell_type": "markdown",
      "metadata": {
        "id": "f-YDsmnG5ueP"
      },
      "source": [
        "# Object-Oriented-Programming (OOP)"
      ]
    },
    {
      "cell_type": "markdown",
      "metadata": {
        "id": "wtpmJjkq5ueV"
      },
      "source": [
        "## Tasks Today:\n",
        "\n",
        "   \n",
        "\n",
        "1) <b>Creating a Class (Initializing/Declaring)</b> <br>\n",
        "2) <b>Using a Class (Instantiating)</b> <br>\n",
        " &nbsp;&nbsp;&nbsp;&nbsp; a) Creating One Instance <br>\n",
        " &nbsp;&nbsp;&nbsp;&nbsp; b) Creating Multiple Instances <br>\n",
        " &nbsp;&nbsp;&nbsp;&nbsp; c) In-Class Exercise #1 - Create a Class 'Car' and instantiate three different makes of cars <br>\n",
        "3) <b>The \\__init\\__() Method</b> <br>\n",
        " &nbsp;&nbsp;&nbsp;&nbsp; a) The 'self' Attribute <br>\n",
        "4) <b>Class Attributes</b> <br>\n",
        " &nbsp;&nbsp;&nbsp;&nbsp; a) Initializing Attributes <br>\n",
        " &nbsp;&nbsp;&nbsp;&nbsp; b) Setting an Attribute Outside of the \\__init\\__() Method <br>\n",
        " &nbsp;&nbsp;&nbsp;&nbsp; c) Setting Defaults for Attributes <br>\n",
        " &nbsp;&nbsp;&nbsp;&nbsp; d) Accessing Class Attributes <br>\n",
        " &nbsp;&nbsp;&nbsp;&nbsp; e) Changing Class Attributes <br>\n",
        " &nbsp;&nbsp;&nbsp;&nbsp; f) In-Class Exercise #2 - Add a color and wheels attribute to your 'Car' class <br>\n",
        "5) <b>Class Methods</b> <br>\n",
        " &nbsp;&nbsp;&nbsp;&nbsp; a) Creating <br>\n",
        " &nbsp;&nbsp;&nbsp;&nbsp; b) Calling <br>\n",
        " &nbsp;&nbsp;&nbsp;&nbsp; c) Modifying an Attribute's Value Through a Method <br>\n",
        " &nbsp;&nbsp;&nbsp;&nbsp; d) Incrementing an Attribute's Value Through a Method <br>\n",
        " &nbsp;&nbsp;&nbsp;&nbsp; e) In-Class Exercise #3 - Add a method that prints the cars color and wheel number, then call them <br>\n",
        "6) <b>Inheritance</b> <br>\n",
        " &nbsp;&nbsp;&nbsp;&nbsp; a) Syntax for Inheriting from a Parent Class <br>\n",
        " &nbsp;&nbsp;&nbsp;&nbsp; b) The \\__init\\__() Method for a Child Class (super()) <br>\n",
        " &nbsp;&nbsp;&nbsp;&nbsp; c) Defining Attributes and Methods for the Child Class <br>\n",
        " &nbsp;&nbsp;&nbsp;&nbsp; d) Method Overriding <br>\n",
        " &nbsp;&nbsp;&nbsp;&nbsp; e) In-Class Exercise #4 - Create a class 'Ford' that inherits from 'Car' class and initialize it as a Blue Ford Explorer with 4 wheels using the super() method <br>\n",
        "7) <b>Classes as Attributes</b> <br>\n",
        "8) <b>Exercises</b> <br>\n",
        " &nbsp;&nbsp;&nbsp;&nbsp; a) Exercise #1 - Turn the shopping cart program from yesterday into an object-oriented program <br>"
      ]
    },
    {
      "cell_type": "markdown",
      "metadata": {
        "id": "Aje0Ua9V5ueW"
      },
      "source": [
        "## Creating a Class (Initializing/Declaring)\n",
        "<p>When creating a class, function, or even a variable you are initializing that object. Initializing and Declaring occur at the same time in Python, whereas in lower level languages you have to declare an object before initializing it. This is the first step in the process of using a class.</p>"
      ]
    },
    {
      "cell_type": "code",
      "execution_count": null,
      "metadata": {
        "id": "KyaMDE_o5ueX"
      },
      "outputs": [],
      "source": [
        "class Car():\n",
        "    wheels = 4\n",
        "    color = 'blue'"
      ]
    },
    {
      "cell_type": "markdown",
      "metadata": {
        "id": "vrTEpjsi5ueY"
      },
      "source": [
        "## Using a Class (Instantiating)\n",
        "<p>The process of creating a class is called <i>Instantiating</i>. Each time you create a variable of that type of class, it is referred to as an <i>Instance</i> of that class. This is the second step in the process of using a class.</p>"
      ]
    },
    {
      "cell_type": "markdown",
      "metadata": {
        "id": "-XgbfNYZ5ueZ"
      },
      "source": [
        "##### Creating One Instance"
      ]
    },
    {
      "cell_type": "code",
      "execution_count": null,
      "metadata": {
        "id": "HHXJlqCN5uea"
      },
      "outputs": [],
      "source": [
        "ford = Car()"
      ]
    },
    {
      "cell_type": "markdown",
      "metadata": {
        "id": "fgRIRNtJ5uew"
      },
      "source": [
        "##### Creating Multiple Instances"
      ]
    },
    {
      "cell_type": "code",
      "execution_count": null,
      "metadata": {
        "id": "h4nXAfJA5uew",
        "outputId": "adb60131-d944-4c37-ebfe-b531e055aad5",
        "colab": {
          "base_uri": "https://localhost:8080/"
        }
      },
      "outputs": [
        {
          "output_type": "stream",
          "name": "stdout",
          "text": [
            "4\n"
          ]
        }
      ],
      "source": [
        "ford= Car()\n",
        "print(ford.wheels)"
      ]
    },
    {
      "cell_type": "markdown",
      "metadata": {
        "id": "agFQmYI_5uex"
      },
      "source": [
        "##### In-Class Exercise #1 - Create a Class 'Car' and Instantiate three different makes of cars"
      ]
    },
    {
      "cell_type": "code",
      "execution_count": null,
      "metadata": {
        "id": "R_GVzdeu5uex",
        "colab": {
          "base_uri": "https://localhost:8080/"
        },
        "outputId": "5bb4f4ae-b062-4c19-ba58-0d1e7f2bca55"
      },
      "outputs": [
        {
          "output_type": "stream",
          "name": "stdout",
          "text": [
            "Make: Toyota, Model: Camry, Year: 2020\n",
            "Make: Honda, Model: Accord, Year: 2018\n",
            "Make: Ford, Model: Mustang, Year: 2019\n"
          ]
        }
      ],
      "source": [
        "class Car:\n",
        "    def __init__(self, make, model, year):\n",
        "        self.make = make\n",
        "        self.model = model\n",
        "        self.year = year\n",
        "\n",
        "    def display_info(self):\n",
        "        print(f\"Make: {self.make}, Model: {self.model}, Year: {self.year}\")\n",
        "\n",
        "# Instantiate three different cars\n",
        "car1 = Car(\"Toyota\", \"Camry\", 2020)\n",
        "car2 = Car(\"Honda\", \"Accord\", 2018)\n",
        "car3 = Car(\"Ford\", \"Mustang\", 2019)\n",
        "\n",
        "# Display information about each car\n",
        "car1.display_info()\n",
        "car2.display_info()\n",
        "car3.display_info()\n"
      ]
    },
    {
      "cell_type": "markdown",
      "metadata": {
        "id": "KR56PCGn5uey"
      },
      "source": [
        "## The \\__init\\__() Method <br>\n",
        "<p>This method is used in almost every created class, and called only once upon the creation of the class instance. This method will initialize all variables needed for the object.</p>"
      ]
    },
    {
      "cell_type": "code",
      "execution_count": null,
      "metadata": {
        "id": "eXjpB6vY5uey",
        "colab": {
          "base_uri": "https://localhost:8080/",
          "height": 110
        },
        "outputId": "d2fab730-0c9a-47bd-89f0-cbb2c63ddf16"
      },
      "outputs": [
        {
          "output_type": "error",
          "ename": "SyntaxError",
          "evalue": "invalid syntax (<ipython-input-7-482957760462>, line 3)",
          "traceback": [
            "\u001b[0;36m  File \u001b[0;32m\"<ipython-input-7-482957760462>\"\u001b[0;36m, line \u001b[0;32m3\u001b[0m\n\u001b[0;31m    def_init_(self,wheels,color):\u001b[0m\n\u001b[0m                                ^\u001b[0m\n\u001b[0;31mSyntaxError\u001b[0m\u001b[0;31m:\u001b[0m invalid syntax\n"
          ]
        }
      ],
      "source": [
        "class Car():\n",
        "  engine='4.75L'\n",
        "def_init_(self,wheels,color):\n",
        "  self.wheels=wheels\n",
        "  self.color=wheels\n",
        "\n",
        "Ford=Car(4,'red')\n",
        "Honda=Car(4,\"blue\")\n",
        "\n",
        "print(Ford.wheels)\n",
        "print(Honda.wheels)"
      ]
    },
    {
      "cell_type": "markdown",
      "metadata": {
        "id": "yCkQvE3l5uey"
      },
      "source": [
        "##### The 'self' Attribute <br>\n",
        "<p>This attribute is required to keep track of specific instance's attributes. Without the self attribute, the program would not know how to reference or keep track of an instance's attributes.</p>"
      ]
    },
    {
      "cell_type": "code",
      "execution_count": null,
      "metadata": {
        "id": "5CXSf7Hi5uez",
        "colab": {
          "base_uri": "https://localhost:8080/",
          "height": 110
        },
        "outputId": "9f9fd25d-569d-447c-fbf0-fa3b82ca1a66"
      },
      "outputs": [
        {
          "output_type": "error",
          "ename": "SyntaxError",
          "evalue": "invalid syntax (<ipython-input-9-fa399f981928>, line 4)",
          "traceback": [
            "\u001b[0;36m  File \u001b[0;32m\"<ipython-input-9-fa399f981928>\"\u001b[0;36m, line \u001b[0;32m4\u001b[0m\n\u001b[0;31m    def_init_(self,rooftop,horn,wheels=4):\u001b[0m\n\u001b[0m                                         ^\u001b[0m\n\u001b[0;31mSyntaxError\u001b[0m\u001b[0;31m:\u001b[0m invalid syntax\n"
          ]
        }
      ],
      "source": [
        "class Toy():\n",
        "  kind='car'\n",
        "\n",
        "  def_init_(self,rooftop,horn,wheels=4) :\n",
        "    self.rooftop=rooftop\n",
        "    self.horn=horn\n",
        "    self.wheels=wheels\n",
        "\n",
        "Tonka_truck=Toy(1,1)\n",
        "Honda_truck=Toy(2,3,8)\n",
        "\n",
        "my_daily_drivers_wheels=5\n",
        "my daily_driver_rooftop='sunroof'\n",
        "my_daily-driver_horn=1\n"
      ]
    },
    {
      "cell_type": "markdown",
      "metadata": {
        "id": "xUi3TjqD5uez"
      },
      "source": [
        "## Class Attributes <br>\n",
        "<p>While variables are inside of a class, they are referred to as attributes and not variables. When someone says 'attribute' you know they're speaking about a class. Attributes can be initialized through the init method, or outside of it.</p>"
      ]
    },
    {
      "cell_type": "markdown",
      "metadata": {
        "id": "2wygG6yD5uez"
      },
      "source": [
        "##### Initializing Attributes"
      ]
    },
    {
      "cell_type": "code",
      "execution_count": null,
      "metadata": {
        "id": "E9IMfzNI5uez",
        "colab": {
          "base_uri": "https://localhost:8080/",
          "height": 110
        },
        "outputId": "de688807-5db4-47e9-e746-c42bccc2469c"
      },
      "outputs": [
        {
          "output_type": "error",
          "ename": "SyntaxError",
          "evalue": "invalid syntax (<ipython-input-8-6a5c2ee3b24d>, line 4)",
          "traceback": [
            "\u001b[0;36m  File \u001b[0;32m\"<ipython-input-8-6a5c2ee3b24d>\"\u001b[0;36m, line \u001b[0;32m4\u001b[0m\n\u001b[0;31m    def_init_(self,rooftop,horn,wheels):\u001b[0m\n\u001b[0m                                       ^\u001b[0m\n\u001b[0;31mSyntaxError\u001b[0m\u001b[0;31m:\u001b[0m invalid syntax\n"
          ]
        }
      ],
      "source": [
        "class Toy():\n",
        "  kind='car'\n",
        "\n",
        "  def_init_(self,rooftop,horn,wheels):\n",
        "    self.rooftop=rooftop\n",
        "    self.horn=horn\n",
        "    self.wheels=wheels\n",
        "\n",
        "Tonka_truck=Toy(1,1)\n",
        "Honda_truck=Toy(2,3,8)\n",
        "\n",
        "my_daily_drivers_wheels=5\n",
        "my daily_driver_rooftop='sunroof'\n",
        "my_daily-driver_horn=1"
      ]
    },
    {
      "cell_type": "markdown",
      "metadata": {
        "id": "bMY38u1L5uez"
      },
      "source": [
        "##### Accessing Class Attributes"
      ]
    },
    {
      "cell_type": "code",
      "execution_count": null,
      "metadata": {
        "scrolled": true,
        "id": "YR1Y_ypY5ue0"
      },
      "outputs": [],
      "source": [
        "class Car():\n",
        "  engine='4.75L'\n",
        "def_init_(self,wheels):\n",
        "  self.wheels=wheels\n",
        "  self.color='blue'\n",
        "\n",
        "honda=Car(4)\n",
        "print(honda.color)\n",
        "print(honda.wheels)"
      ]
    },
    {
      "cell_type": "markdown",
      "metadata": {
        "id": "NUHk8h2m5ue0"
      },
      "source": [
        "##### Setting Defaults for Attributes"
      ]
    },
    {
      "cell_type": "code",
      "execution_count": null,
      "metadata": {
        "id": "QvfUDc0Q5ue0"
      },
      "outputs": [],
      "source": [
        "print(honda.color)"
      ]
    },
    {
      "cell_type": "markdown",
      "metadata": {
        "id": "ZEr_0xP35ue0"
      },
      "source": [
        "##### Changing Class Attributes <br>\n",
        "<p>Keep in mind there are global class attributes and then there are attributes only available to each class instance which won't effect other classes.</p>"
      ]
    },
    {
      "cell_type": "code",
      "execution_count": null,
      "metadata": {
        "id": "AXi63nil5ue0"
      },
      "outputs": [],
      "source": [
        "class car():\n",
        "  engine='4.7L'\n",
        "def _init_(self,wheels):\n",
        "  self.wheels=wheels\n",
        "  self.color='Blue'\n",
        "honda = car(4)\n",
        "print(honda.color)\n",
        "print(honda.wheels)\n"
      ]
    },
    {
      "cell_type": "code",
      "execution_count": null,
      "metadata": {
        "id": "jO2L2avb5ue0"
      },
      "outputs": [],
      "source": []
    },
    {
      "cell_type": "markdown",
      "metadata": {
        "id": "KPhzr9xi5ue0"
      },
      "source": [
        "##### In-Class Exercise #2 - Add a doors and seats attribute to your 'Car' class then print out two different instances with different doors and seats"
      ]
    },
    {
      "cell_type": "code",
      "execution_count": null,
      "metadata": {
        "id": "pzDN01RC5ue1",
        "colab": {
          "base_uri": "https://localhost:8080/"
        },
        "outputId": "61f6fffa-1dfa-42bb-b067-b3fcee0b5e01"
      },
      "outputs": [
        {
          "output_type": "stream",
          "name": "stdout",
          "text": [
            "Make: Toyota, Model: Camry, Year: 2020, Color: Red, Wheels: 4\n",
            "Make: Honda, Model: Accord, Year: 2018, Color: Blue, Wheels: 4\n",
            "Make: Ford, Model: Mustang, Year: 2019, Color: Black, Wheels: 4\n"
          ]
        }
      ],
      "source": [
        "class Car:\n",
        "    def __init__(self, make, model, year, color, wheels):\n",
        "        self.make = make\n",
        "        self.model = model\n",
        "        self.year = year\n",
        "        self.color = color\n",
        "        self.wheels = wheels\n",
        "\n",
        "    def display_info(self):\n",
        "        print(f\"Make: {self.make}, Model: {self.model}, Year: {self.year}, Color: {self.color}, Wheels: {self.wheels}\")\n",
        "\n",
        "# Instantiate three different cars\n",
        "car1 = Car(\"Toyota\", \"Camry\", 2020, \"Red\", 4)\n",
        "car2 = Car(\"Honda\", \"Accord\", 2018, \"Blue\", 4)\n",
        "car3 = Car(\"Ford\", \"Mustang\", 2019, \"Black\", 4)\n",
        "\n",
        "# Display information about each car\n",
        "car1.display_info()\n",
        "car2.display_info()\n",
        "car3.display_info()\n"
      ]
    },
    {
      "cell_type": "markdown",
      "metadata": {
        "id": "59VXM4To5ue1"
      },
      "source": [
        "## Class Methods <br>\n",
        "<p>While inside of a class, functions are referred to as 'methods'. If you hear someone mention methods, they're speaking about classes. Methods are essentially functions, but only callable on the instances of a class.</p>"
      ]
    },
    {
      "cell_type": "markdown",
      "metadata": {
        "id": "5VZgyJuf5ue1"
      },
      "source": [
        "##### Creating"
      ]
    },
    {
      "cell_type": "code",
      "execution_count": null,
      "metadata": {
        "id": "eP6aeyP35ue1",
        "colab": {
          "base_uri": "https://localhost:8080/",
          "height": 110
        },
        "outputId": "5b1d2f99-bf56-4173-8a66-109bcb5a5377"
      },
      "outputs": [
        {
          "output_type": "error",
          "ename": "SyntaxError",
          "evalue": "expression cannot contain assignment, perhaps you meant \"==\"? (<ipython-input-15-857c646202f6>, line 2)",
          "traceback": [
            "\u001b[0;36m  File \u001b[0;32m\"<ipython-input-15-857c646202f6>\"\u001b[0;36m, line \u001b[0;32m2\u001b[0m\n\u001b[0;31m    def_init_(self,handle.items=[],capacity=10):\u001b[0m\n\u001b[0m                   ^\u001b[0m\n\u001b[0;31mSyntaxError\u001b[0m\u001b[0;31m:\u001b[0m expression cannot contain assignment, perhaps you meant \"==\"?\n"
          ]
        }
      ],
      "source": [
        "class shopping_bag():\n",
        "  def_init_(self,handle.items=[],capacity=10):\n",
        "    self.handles=handles\n",
        "    self.items=items\n",
        "    self.capacity=capacity\n",
        "\n",
        "  def showshoppingbag(self):\n",
        "    print('your items in your bag')\n",
        "    for item in self.items():\n",
        "      print (item)\n",
        "\n",
        "  def showcapacity(self):\n",
        "    print(f\"your remaining items in{self.capacity}\")\n",
        "\n",
        "  def addtoshoppingbag(self):\n",
        "    product=input(\"what would you like to add?\")\n",
        "    self.items.append(product)"
      ]
    },
    {
      "cell_type": "markdown",
      "metadata": {
        "id": "zQfr-hpT5ue1"
      },
      "source": [
        "##### Calling"
      ]
    },
    {
      "cell_type": "code",
      "execution_count": null,
      "metadata": {
        "id": "GZXgK5xY5ue1"
      },
      "outputs": [],
      "source": [
        "wholefood=shopping_bag(2)\n",
        "def run():\n",
        "  while True:\n",
        "    response=input(\"what would you like to add?\\n-add,\\n-show,\\n-quit\")\n",
        "  if response.lower()=='quit':\n",
        "    wholefood.showshoppingbag()\n",
        "    print(\"Thanks for shopping\")\n",
        "  elif response.lower()=='add':\n",
        "    wholefoodbag.addtoshoppingbag()\n",
        "  else:\n",
        "   print('not valid option')\n",
        "\n",
        "run()\n"
      ]
    },
    {
      "cell_type": "markdown",
      "metadata": {
        "id": "arHR8TUN5ue2"
      },
      "source": [
        "##### Modifying an Attribute's Value Through a Method"
      ]
    },
    {
      "cell_type": "code",
      "execution_count": null,
      "metadata": {
        "id": "7jpYZslF5ue2"
      },
      "outputs": [],
      "source": [
        "#see above"
      ]
    },
    {
      "cell_type": "markdown",
      "metadata": {
        "id": "RvuW2mN15ue2"
      },
      "source": [
        "##### Incrementing an Attribute's Value Through a Method"
      ]
    },
    {
      "cell_type": "code",
      "execution_count": null,
      "metadata": {
        "id": "xtcpz-uv5ue2"
      },
      "outputs": [],
      "source": [
        "#see above"
      ]
    },
    {
      "cell_type": "markdown",
      "metadata": {
        "id": "2Rsm7Qm05ue2"
      },
      "source": [
        "##### In-Class Exercise #3 - Add a method that takes in three parameters of year, doors and seats and prints out a formatted print statement with make, model, year, seats, and doors"
      ]
    },
    {
      "cell_type": "code",
      "execution_count": null,
      "metadata": {
        "id": "hH36LMt65ue2",
        "colab": {
          "base_uri": "https://localhost:8080/"
        },
        "outputId": "a861d5d6-0fc4-4521-8430-e86a1f473616"
      },
      "outputs": [
        {
          "output_type": "stream",
          "name": "stdout",
          "text": [
            "Make: Toyota, Model: Camry, Year: 2020, Color: Red, Wheels: 4\n",
            "Make: Honda, Model: Accord, Year: 2018, Color: Blue, Wheels: 4\n",
            "Make: Ford, Model: Mustang, Year: 2019, Color: Black, Wheels: 4\n",
            "Make: Toyota, Model: Camry, Year: 2020, Seats: 5, Doors: 4\n",
            "Make: Honda, Model: Accord, Year: 2018, Seats: 5, Doors: 4\n",
            "Make: Ford, Model: Mustang, Year: 2019, Seats: 4, Doors: 2\n"
          ]
        }
      ],
      "source": [
        "# Create class with 2 paramters inside of the __init__ which are make and model\n",
        "\n",
        "# Inside of the Car class create a method that has 4 parameter in total (self,year,door,seats)\n",
        "\n",
        "# Output: This car is from 2019 and is a Ford Expolorer and has 4 doors and 5 seats\n",
        "\n",
        "class Car:\n",
        "    def __init__(self, make, model, year, color, wheels):\n",
        "        self.make = make\n",
        "        self.model = model\n",
        "        self.year = year\n",
        "        self.color = color\n",
        "        self.wheels = wheels\n",
        "\n",
        "    def display_info(self):\n",
        "        print(f\"Make: {self.make}, Model: {self.model}, Year: {self.year}, Color: {self.color}, Wheels: {self.wheels}\")\n",
        "\n",
        "    def display_additional_info(self, doors, seats):\n",
        "        print(f\"Make: {self.make}, Model: {self.model}, Year: {self.year}, Seats: {seats}, Doors: {doors}\")\n",
        "\n",
        "# Instantiate three different cars\n",
        "car1 = Car(\"Toyota\", \"Camry\", 2020, \"Red\", 4)\n",
        "car2 = Car(\"Honda\", \"Accord\", 2018, \"Blue\", 4)\n",
        "car3 = Car(\"Ford\", \"Mustang\", 2019, \"Black\", 4)\n",
        "\n",
        "# Display information about each car\n",
        "car1.display_info()\n",
        "car2.display_info()\n",
        "car3.display_info()\n",
        "\n",
        "# Display additional information about each car\n",
        "car1.display_additional_info(doors=4, seats=5)\n",
        "car2.display_additional_info(doors=4, seats=5)\n",
        "car3.display_additional_info(doors=2, seats=4)\n",
        "\n",
        "\n",
        "\n"
      ]
    },
    {
      "cell_type": "markdown",
      "metadata": {
        "id": "OuG6JjAF5ue3"
      },
      "source": [
        "## Inheritance <br> #leave\n",
        "<p>You can create a child-parent relationship between two classes by using inheritance. What this allows you to do is have overriding methods, but also inherit traits from the parent class. Think of it as an actual parent and child, the child will inherit the parent's genes, as will the classes in OOP</p>"
      ]
    },
    {
      "cell_type": "markdown",
      "metadata": {
        "id": "Ms2oIRXo5ue-"
      },
      "source": [
        "##### Syntax for Inheriting from a Parent Class"
      ]
    },
    {
      "cell_type": "code",
      "execution_count": null,
      "metadata": {
        "id": "BHDJJJFV5ue_"
      },
      "outputs": [],
      "source": []
    },
    {
      "cell_type": "markdown",
      "metadata": {
        "id": "I_oWXGWo5ue_"
      },
      "source": [
        "##### The \\__init\\__() Method for a Child Class - super()"
      ]
    },
    {
      "cell_type": "code",
      "execution_count": null,
      "metadata": {
        "scrolled": true,
        "id": "BIqNqkY-5ufA"
      },
      "outputs": [],
      "source": []
    },
    {
      "cell_type": "markdown",
      "metadata": {
        "id": "NzJfZMvr5ufA"
      },
      "source": [
        "##### Defining Attributes and Methods for the Child Class"
      ]
    },
    {
      "cell_type": "code",
      "execution_count": null,
      "metadata": {
        "id": "vrjNoQOP5ufA"
      },
      "outputs": [],
      "source": [
        "# See Above"
      ]
    },
    {
      "cell_type": "markdown",
      "metadata": {
        "id": "W3WQStcF5ufA"
      },
      "source": [
        "##### Method Overriding"
      ]
    },
    {
      "cell_type": "code",
      "execution_count": null,
      "metadata": {
        "id": "U0vsnbAT5ufB"
      },
      "outputs": [],
      "source": [
        "# See Above"
      ]
    },
    {
      "cell_type": "markdown",
      "metadata": {
        "id": "lJuRYJvk5ufJ"
      },
      "source": [
        "## Classes as Attributes <br>\n",
        "<p>Classes can also be used as attributes within another class. This is useful in situations where you need to keep variables locally stored, instead of globally stored.</p>"
      ]
    },
    {
      "cell_type": "code",
      "execution_count": null,
      "metadata": {
        "id": "pgITmeuq5ufJ"
      },
      "outputs": [],
      "source": [
        "#see above"
      ]
    },
    {
      "cell_type": "markdown",
      "metadata": {
        "id": "oNrdOqGP5ufJ"
      },
      "source": [
        "# Exercises"
      ]
    },
    {
      "cell_type": "markdown",
      "metadata": {
        "id": "wY5Nm7cm5ufK"
      },
      "source": [
        "### Exercise 1 - Turn the shopping cart program from yesterday into an object-oriented program\n",
        "\n",
        "The comments in the cell below are there as a guide for thinking about the problem. However, if you feel a different way is best for you and your own thought process, please do what feels best for you by all means."
      ]
    },
    {
      "cell_type": "code",
      "execution_count": 1,
      "metadata": {
        "id": "kvc7yiEt5ufK"
      },
      "outputs": [],
      "source": [
        "# Create a class called cart that retains items and has methods to add, remove, and show\n",
        "class ShoppingCart:\n",
        "    def __init__(self):\n",
        "        self.shop_list = []\n",
        "\n",
        "    def add_item(self, item):\n",
        "        self.shop_list.append(item)\n",
        "\n",
        "    def show_items(self):\n",
        "        print('Shopping List\\n')\n",
        "        print(self.shop_list)\n",
        "\n",
        "    def remove_item(self, item):\n",
        "        if item in self.shop_list:\n",
        "            self.shop_list.remove(item)\n",
        "        else:\n",
        "            print(\"Item not found in the shopping list.\")\n",
        "\n",
        "    def clear_items(self):\n",
        "        self.shop_list.clear()\n",
        "        print('Shopping List is Empty\\n')\n",
        "        print(self.shop_list)\n",
        "\n",
        "    def start_shopping(self):\n",
        "        while True:\n",
        "            print('1. Add an item')\n",
        "            print('2. Show items')\n",
        "            print('3. Remove items')\n",
        "            print('4. Clear items')\n",
        "            print('0. Quit')\n",
        "\n",
        "            inp = int(input('Enter your desired input: '))\n",
        "            if inp == 1:\n",
        "                item = input('Enter the item name to be added: ')\n",
        "                self.add_item(item)\n",
        "            elif inp == 2:\n",
        "                self.show_items()\n",
        "            elif inp == 3:\n",
        "                item = input('Enter the item to be removed: ')\n",
        "                self.remove_item(item)\n",
        "            elif inp == 4:\n",
        "                self.clear_items()\n",
        "            elif inp == 0:\n",
        "                print('Thanks!\\n')\n",
        "                self.show_items()\n",
        "                break\n"
      ]
    },
    {
      "cell_type": "code",
      "source": [
        "# Create an instance of the ShoppingCart class and start shopping\n",
        "cart = ShoppingCart()\n",
        "cart.start_shopping()\n"
      ],
      "metadata": {
        "colab": {
          "base_uri": "https://localhost:8080/"
        },
        "id": "ng2diq3QaoYI",
        "outputId": "c7b551ef-9c53-43fd-d3be-836c82b24d2a"
      },
      "execution_count": 2,
      "outputs": [
        {
          "output_type": "stream",
          "name": "stdout",
          "text": [
            "1. Add an item\n",
            "2. Show items\n",
            "3. Remove items\n",
            "4. Clear items\n",
            "0. Quit\n",
            "Enter your desired input: 1\n",
            "Enter the item name to be added: milk\n",
            "1. Add an item\n",
            "2. Show items\n",
            "3. Remove items\n",
            "4. Clear items\n",
            "0. Quit\n",
            "Enter your desired input: 2\n",
            "Shopping List\n",
            "\n",
            "['milk']\n",
            "1. Add an item\n",
            "2. Show items\n",
            "3. Remove items\n",
            "4. Clear items\n",
            "0. Quit\n",
            "Enter your desired input: 0\n",
            "Thanks!\n",
            "\n",
            "Shopping List\n",
            "\n",
            "['milk']\n"
          ]
        }
      ]
    },
    {
      "cell_type": "markdown",
      "metadata": {
        "id": "yX2aWN0n5ufK"
      },
      "source": [
        "### Exercise 2 - Write a Python class which has two methods get_String and print_String. get_String accept a string from the user and print_String print the string in upper case"
      ]
    },
    {
      "cell_type": "code",
      "execution_count": null,
      "metadata": {
        "id": "Xxb2s-AV5ufK",
        "colab": {
          "base_uri": "https://localhost:8080/"
        },
        "outputId": "573d268f-58cb-4fe7-c707-39172c2bfd0d"
      },
      "outputs": [
        {
          "output_type": "stream",
          "name": "stdout",
          "text": [
            "Enter a string: hello\n",
            "String in upper case: HELLO\n"
          ]
        }
      ],
      "source": [
        "class StringOperation:\n",
        "    def __init__(self):\n",
        "        self.string = \"\"\n",
        "\n",
        "    def get_String(self):\n",
        "        self.string = input(\"Enter a string: \")\n",
        "\n",
        "    def print_String(self):\n",
        "        print(\"String in upper case:\", self.string.upper())\n",
        "\n",
        "# Example usage:\n",
        "manipulator = StringOperation()\n",
        "manipulator.get_String()\n",
        "manipulator.print_String()\n"
      ]
    },
    {
      "cell_type": "code",
      "source": [],
      "metadata": {
        "id": "65MfbItNYqWm"
      },
      "execution_count": null,
      "outputs": []
    }
  ],
  "metadata": {
    "kernelspec": {
      "display_name": "Python 3",
      "language": "python",
      "name": "python3"
    },
    "language_info": {
      "codemirror_mode": {
        "name": "ipython",
        "version": 3
      },
      "file_extension": ".py",
      "mimetype": "text/x-python",
      "name": "python",
      "nbconvert_exporter": "python",
      "pygments_lexer": "ipython3",
      "version": "3.8.5"
    },
    "colab": {
      "provenance": []
    }
  },
  "nbformat": 4,
  "nbformat_minor": 0
}