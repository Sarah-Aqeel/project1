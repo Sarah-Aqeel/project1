{
  "cells": [
    {
      "cell_type": "markdown",
      "metadata": {
        "id": "ciKVL0UoLrWX"
      },
      "source": [
        "# Regular Expressions"
      ]
    },
    {
      "cell_type": "markdown",
      "metadata": {
        "id": "9JYnu5n8LrWa"
      },
      "source": [
        "# Tasks today:\n",
        "1) <b>Importing</b> <br>\n",
        "2) <b>Using Regular Expressions</b> <br>\n",
        " &nbsp;&nbsp;&nbsp;&nbsp; a) re.compile() <br>\n",
        " &nbsp;&nbsp;&nbsp;&nbsp; b) re.match() <br>\n",
        " &nbsp;&nbsp;&nbsp;&nbsp; c) re.findall() <br>\n",
        " &nbsp;&nbsp;&nbsp;&nbsp; d) re.search() <br>\n",
        "3) <b>Sets</b> <br>\n",
        " &nbsp;&nbsp;&nbsp;&nbsp; a) Integer Ranges <br>\n",
        " &nbsp;&nbsp;&nbsp;&nbsp; b) Character Ranges <br>\n",
        "4) <b>Counting Occurences</b> <br>\n",
        " &nbsp;&nbsp;&nbsp;&nbsp; a) {x} <br>\n",
        " &nbsp;&nbsp;&nbsp;&nbsp; b) {, x} <br>\n",
        " &nbsp;&nbsp;&nbsp;&nbsp; c) {?} <br>\n",
        " &nbsp;&nbsp;&nbsp;&nbsp; d) {*} <br>\n",
        " &nbsp;&nbsp;&nbsp;&nbsp; e) {+} <br>\n",
        "5) <b>In-Class Exercise #1</b> <br>\n",
        "6) <b>Escaping Characters</b> <br>\n",
        "7) <b>Grouping</b> <br>\n",
        "8) <b>In-Class Exercise #2</b> <br>\n",
        "9) <b>Opening a File</b> <br>\n",
        " &nbsp;&nbsp;&nbsp;&nbsp; a) open() <br>\n",
        " &nbsp;&nbsp;&nbsp;&nbsp; b) with open() <br>\n",
        " &nbsp;&nbsp;&nbsp;&nbsp; c) re.match() <br>\n",
        " &nbsp;&nbsp;&nbsp;&nbsp; d) re.search() <br>\n",
        " &nbsp;&nbsp;&nbsp;&nbsp; e) Store the String in a Variable <br>\n",
        "10) <b>Regex Project</b> <br>"
      ]
    },
    {
      "cell_type": "markdown",
      "metadata": {
        "id": "oA_dBf2eLrWb"
      },
      "source": [
        "### Importing <br>\n",
        "<p>Regular Expressions are universal throughout most programming languages... They are generally imported through the module 're'.</p>"
      ]
    },
    {
      "cell_type": "code",
      "execution_count": null,
      "metadata": {
        "id": "r82AEkJzLrWc"
      },
      "outputs": [],
      "source": [
        "# import re\n",
        "import re"
      ]
    },
    {
      "cell_type": "markdown",
      "metadata": {
        "id": "YF3udmheLrWd"
      },
      "source": [
        "### Using Regular Expressions <br>\n",
        "<p>Regular expressions give us the ability to search for patterns within text, strings, files, etc. They serve several uses, such as; security measures, searching, filtering, pattern recognition, and more...</p>"
      ]
    },
    {
      "cell_type": "markdown",
      "metadata": {
        "id": "QhVbWfjOLrWe"
      },
      "source": [
        "##### re.compile()"
      ]
    },
    {
      "cell_type": "code",
      "execution_count": null,
      "metadata": {
        "id": "zGfSVM7iNDYn"
      },
      "outputs": [],
      "source": [
        "pattern=re.compile('abcd')"
      ]
    },
    {
      "cell_type": "code",
      "execution_count": null,
      "metadata": {
        "id": "nMEKdyj2LrWe"
      },
      "outputs": [],
      "source": [
        "# using compile, pre determines the string to be used in regular expression methods\n",
        "\n"
      ]
    },
    {
      "cell_type": "markdown",
      "metadata": {
        "id": "TFDZWntALrWe"
      },
      "source": [
        "##### re.match()"
      ]
    },
    {
      "cell_type": "code",
      "execution_count": null,
      "metadata": {
        "colab": {
          "base_uri": "https://localhost:8080/"
        },
        "id": "PU9u3UCoLrWe",
        "outputId": "ea0ecb59-ab5d-4a09-eb32-8e12f5fb2d0f"
      },
      "outputs": [
        {
          "name": "stdout",
          "output_type": "stream",
          "text": [
            "(0, 4)\n"
          ]
        }
      ],
      "source": [
        "match=pattern.match('abcd')\n",
        "match\n",
        "print(match.span())\n",
        "\n",
        "# Accessing the span of the match\n"
      ]
    },
    {
      "cell_type": "markdown",
      "metadata": {
        "id": "Wxj_siOXLrWf"
      },
      "source": [
        "##### re.findall()"
      ]
    },
    {
      "cell_type": "code",
      "execution_count": null,
      "metadata": {
        "colab": {
          "base_uri": "https://localhost:8080/"
        },
        "id": "2ZPDklu_LrWf",
        "outputId": "fbfcd672-9c32-477d-94f6-247f9547c723"
      },
      "outputs": [
        {
          "name": "stdout",
          "output_type": "stream",
          "text": [
            "['abcd']\n"
          ]
        }
      ],
      "source": [
        "finders=pattern.findall('1234abcd')\n",
        "print(finders)"
      ]
    },
    {
      "cell_type": "markdown",
      "metadata": {
        "id": "USYoXO16LrWg"
      },
      "source": [
        "##### re.search()"
      ]
    },
    {
      "cell_type": "code",
      "execution_count": null,
      "metadata": {
        "id": "JEo1YuSTLrWg"
      },
      "outputs": [],
      "source": [
        "random_string='1234','123','abcd'\n",
        "search=pattern.search(random_string)\n",
        "print(search)\n",
        "span=search.span()\n",
        "print(span,span(type))\n",
        "print(random_string[span[0]:span[1]])"
      ]
    },
    {
      "cell_type": "markdown",
      "metadata": {
        "id": "oTIJ4lYQLrWh"
      },
      "source": [
        "### Sets <br>\n",
        "<p>The following cells will allow you to use regular expressions to search for certain values within a range such as numbers 1 through 4.</p>"
      ]
    },
    {
      "cell_type": "markdown",
      "metadata": {
        "id": "B1KfN9JDLrWh"
      },
      "source": [
        "##### [a-z] or [A-Z] - any lowercase/uppercase letters from a to z<br/>[^2] - anything that's not 2"
      ]
    },
    {
      "cell_type": "markdown",
      "metadata": {
        "id": "K-pqbpHzLrWh"
      },
      "source": [
        "##### Integer Ranges"
      ]
    },
    {
      "cell_type": "code",
      "execution_count": null,
      "metadata": {
        "id": "sk6_VpTHLrWi"
      },
      "outputs": [],
      "source": [
        "pattern_int=re.compile([0-7][7-9])\n",
        "random_number=pattern.int.search"
      ]
    },
    {
      "cell_type": "markdown",
      "metadata": {
        "id": "hvekp-yLLrWi"
      },
      "source": [
        "##### Character Ranges"
      ]
    },
    {
      "cell_type": "code",
      "execution_count": null,
      "metadata": {
        "id": "Ym0QKJijLrWi"
      },
      "outputs": [],
      "source": []
    },
    {
      "cell_type": "markdown",
      "metadata": {
        "id": "qPxhYS33LrWi"
      },
      "source": [
        "### Counting Occurences"
      ]
    },
    {
      "cell_type": "markdown",
      "metadata": {
        "id": "AT8E3ezkLrWj"
      },
      "source": [
        "##### {x} - something that occurs {num_of_times}"
      ]
    },
    {
      "cell_type": "code",
      "execution_count": null,
      "metadata": {
        "colab": {
          "base_uri": "https://localhost:8080/"
        },
        "id": "GmPyHm44LrWj",
        "outputId": "a05d5ba6-2cc2-47d7-fd8a-8bfb98972d7d"
      },
      "outputs": [
        {
          "name": "stdout",
          "output_type": "stream",
          "text": [
            "['An33']\n"
          ]
        }
      ],
      "source": [
        "import re\n",
        "pattern=re.compile('[A-Z][a-z][0-3]{2}')\n",
        "found_count=pattern.findall('Hello Mr. An33rson')\n",
        "print(found_count)"
      ]
    },
    {
      "cell_type": "code",
      "execution_count": null,
      "metadata": {
        "colab": {
          "base_uri": "https://localhost:8080/"
        },
        "id": "iUnZA4OUgnAk",
        "outputId": "d56cbedd-9d88-4b8b-c036-048c384248c9"
      },
      "outputs": [
        {
          "name": "stdout",
          "output_type": "stream",
          "text": [
            "['mrs']\n"
          ]
        }
      ],
      "source": [
        "#? - something that occurs 0 or 1 time\n",
        "pattern=re.compile('mrs?')\n",
        "found=pattern.findall(\"i know where mrs anderson lives\")\n",
        "print(found)"
      ]
    },
    {
      "cell_type": "markdown",
      "metadata": {
        "id": "meJ4ac1GLrWj"
      },
      "source": [
        "##### ? - something that occurs 0 or 1 time"
      ]
    },
    {
      "cell_type": "markdown",
      "metadata": {
        "id": "fvSyetS2LrWj"
      },
      "source": [
        "##### {x, x} - something that occurs between x and x times"
      ]
    },
    {
      "cell_type": "code",
      "execution_count": null,
      "metadata": {
        "colab": {
          "base_uri": "https://localhost:8080/"
        },
        "id": "t8gxGqRELrWj",
        "outputId": "d18f5da1-8fe2-4240-bc8c-57af190a2ac4"
      },
      "outputs": [
        {
          "name": "stdout",
          "output_type": "stream",
          "text": [
            "['m', 'm', 'm', 'mm', 'mmmmm']\n"
          ]
        }
      ],
      "source": [
        "pattern=re.compile('m{1,5}')\n",
        "statement=pattern.findall(\"This is example of regular expression trying to find one m or more than one mm or five mmmmm \")\n",
        "print(statement)\n"
      ]
    },
    {
      "cell_type": "markdown",
      "metadata": {
        "id": "uVX30RsrLrWk"
      },
      "source": [
        "##### * - something that occurs at least 0 times"
      ]
    },
    {
      "cell_type": "code",
      "execution_count": null,
      "metadata": {
        "colab": {
          "base_uri": "https://localhost:8080/"
        },
        "id": "zs5u_GEziMM3",
        "outputId": "537a66c2-5fdb-46e8-c4a9-8605a40dfa7d"
      },
      "outputs": [
        {
          "name": "stdout",
          "output_type": "stream",
          "text": [
            "['mmmms', 's', 'ms', 's', 's', 's']\n"
          ]
        }
      ],
      "source": [
        "pattern=re.compile('m*s')\n",
        "found=pattern.findall(\"mmmms is a msooons must mystery\")\n",
        "print(found)"
      ]
    },
    {
      "cell_type": "markdown",
      "metadata": {
        "id": "6Nqv4UonLrWk"
      },
      "source": [
        "##### + - something that occurs at least once"
      ]
    },
    {
      "cell_type": "code",
      "execution_count": null,
      "metadata": {
        "colab": {
          "base_uri": "https://localhost:8080/"
        },
        "id": "aLy_Zic1LrWl",
        "outputId": "5dc023e8-a2d4-4264-80e2-7bd7940da61d"
      },
      "outputs": [
        {
          "name": "stdout",
          "output_type": "stream",
          "text": [
            "['mmmms', 'ms']\n"
          ]
        }
      ],
      "source": [
        "pattern=re.compile('m+s')\n",
        "found=pattern.findall(\"mmmms is a msooons must mystery\")\n",
        "print(found)"
      ]
    },
    {
      "cell_type": "markdown",
      "metadata": {
        "id": "eYNMSTRvLrWl"
      },
      "source": [
        "##### In-class exercise 1:\n",
        "\n",
        "Use a regular expression to find every number in the given string"
      ]
    },
    {
      "cell_type": "code",
      "execution_count": null,
      "metadata": {
        "colab": {
          "base_uri": "https://localhost:8080/"
        },
        "id": "fiialUdfLrWl",
        "outputId": "acb88889-c470-41c9-f6d9-32521bc5645b"
      },
      "outputs": [
        {
          "name": "stdout",
          "output_type": "stream",
          "text": [
            "['109090900', '1', '2']\n"
          ]
        }
      ],
      "source": [
        "my_string= \"This string has 109090900 numbers , but its only 1 string. i hope you can solve it 2day\"\n",
        "pattern=re.compile('[0-9]*\\d')\n",
        "found=pattern.findall(\"This string has 109090900 numbers , but its only 1 string. i hope you can solve it 2day\")\n",
        "print(found)\n"
      ]
    },
    {
      "cell_type": "markdown",
      "metadata": {
        "id": "g4Tgv4fqLrWm"
      },
      "source": [
        "### Escaping Characters"
      ]
    },
    {
      "cell_type": "markdown",
      "metadata": {
        "id": "w-kALf-CLrWm"
      },
      "source": [
        "##### \\w - look for any Unicode character<br/>\\W - look for anything that isnt a Unicode character\n",
        "\n",
        "[History on Unicode](http://unicode.org/standard/WhatIsUnicode.html)\n",
        "\n",
        "[More on Unicode Characters](https://en.wikipedia.org/wiki/List_of_Unicode_characters)"
      ]
    },
    {
      "cell_type": "code",
      "execution_count": null,
      "metadata": {
        "colab": {
          "base_uri": "https://localhost:8080/"
        },
        "id": "9cTJJVujLrWm",
        "outputId": "b8767402-5d44-4aa0-91ed-4f90ebef23f8"
      },
      "outputs": [
        {
          "name": "stdout",
          "output_type": "stream",
          "text": [
            "[' ', ' ', ' ', ', ', ', ', ' ,', ' ']\n",
            "['This', 'is', 'a', 'string', 'data', 'of', 'manupilation']\n"
          ]
        }
      ],
      "source": [
        "pattern1=re.compile('[\\W]+')\n",
        "pattern2=re.compile('[\\w]+')\n",
        "\n",
        "found=pattern1.findall(\"This is a string, data, of ,manupilation \")\n",
        "found2=pattern2.findall(\"This is a string, data, of ,manupilation \")\n",
        "\n",
        "print(found)\n",
        "print(found2)"
      ]
    },
    {
      "cell_type": "markdown",
      "metadata": {
        "id": "lQ7hZgHpLrWm"
      },
      "source": [
        "##### \\d - look for any digit 0-9<br/>\\D - look for anything that isnt a digit"
      ]
    },
    {
      "cell_type": "code",
      "execution_count": null,
      "metadata": {
        "colab": {
          "base_uri": "https://localhost:8080/"
        },
        "id": "M3WPtoY8LrWn",
        "outputId": "7522089e-73df-4fd3-9ac5-6e4fc5ad0ffc"
      },
      "outputs": [
        {
          "name": "stdout",
          "output_type": "stream",
          "text": [
            "[]\n"
          ]
        }
      ],
      "source": [
        "pattern=re.compile('\\d{1,2}[\\D][2]')\n",
        "found=pattern.findall(\"This is the 2nd day of the 3rd month of the year 2013\")\n",
        "print(found)"
      ]
    },
    {
      "cell_type": "markdown",
      "metadata": {
        "id": "Ku9kKGLLLrWn"
      },
      "source": [
        "##### \\s - look for any white space<br/>\\S - look for anything that isnt whitespace"
      ]
    },
    {
      "cell_type": "code",
      "execution_count": null,
      "metadata": {
        "colab": {
          "base_uri": "https://localhost:8080/"
        },
        "id": "6FOmfChVLrWn",
        "outputId": "3787d211-9e4f-4ac2-adc5-5259f87ff060"
      },
      "outputs": [
        {
          "name": "stdout",
          "output_type": "stream",
          "text": [
            "[' i', ' t', ' d', ' o', ' t', ' m', ' o', ' t', ' y']\n",
            "[' ', ' ', ' ', ' ', ' ', ' ', ' ', ' ', ' ', ' ', ' ', ' ']\n"
          ]
        }
      ],
      "source": [
        "pattern=re.compile('\\s[a-z]')\n",
        "pattern2=re.compile('\\s+')\n",
        "found=pattern.findall(\"This is the 2nd day of the 3rd month of the year 2013\")\n",
        "found2=pattern2.findall(\"This is the 2nd day of the 3rd month of the year 2013\")\n",
        "print(found)\n",
        "print(found2)"
      ]
    },
    {
      "cell_type": "markdown",
      "metadata": {
        "id": "erzEm4_oLrWu"
      },
      "source": [
        "##### \\b - look for boundaries or edges of a word<br/>\\B - look for anything that isnt a boundary"
      ]
    },
    {
      "cell_type": "code",
      "execution_count": null,
      "metadata": {
        "colab": {
          "base_uri": "https://localhost:8080/"
        },
        "id": "sB_XZeQ_LrW6",
        "outputId": "b63005d4-cb17-4128-ba44-b4b6a6351e6c"
      },
      "outputs": [
        {
          "name": "stdout",
          "output_type": "stream",
          "text": [
            "[]\n",
            "['h', 'e', 'o', 'd', 'i', 'n', 'g', 'T', 'e', 'm', 'p', 'l']\n"
          ]
        }
      ],
      "source": [
        "pattern=re.compile(r'\\b[Thecodingtemple]\\b')\n",
        "pattern2=re.compile(r'\\B[Thecodingtemple]\\B')\n",
        "found=pattern.findall(\"The Coding Temple is a good bootcamp\")\n",
        "found2=pattern2.findall(\"TheCodingTemple\")\n",
        "print(found)\n",
        "print(found2)"
      ]
    },
    {
      "cell_type": "markdown",
      "metadata": {
        "id": "xLOosby-LrW8"
      },
      "source": [
        "### Grouping"
      ]
    },
    {
      "cell_type": "code",
      "execution_count": null,
      "metadata": {
        "colab": {
          "base_uri": "https://localhost:8080/"
        },
        "id": "MQVgyxFbLrW9",
        "outputId": "1bc06c55-304e-478a-8b66-99f7fccae1cb"
      },
      "outputs": [
        {
          "name": "stdout",
          "output_type": "stream",
          "text": [
            "[('Anna', 'Schmit'), ('John', 'Fredrick')]\n"
          ]
        }
      ],
      "source": [
        "my_string='aaron rodger, Anna Schmit, John Fredrick, ramin desouza'\n",
        "pattern=re.compile('([A-Z][a-zA-Za-z]+) ([A-Z][A-Za-z]+)')\n",
        "found=pattern.findall(my_string)\n",
        "print(found)"
      ]
    },
    {
      "cell_type": "markdown",
      "metadata": {
        "id": "ORNzefXjLrW9"
      },
      "source": [
        "##### In-class Exercise 2:\n",
        "\n",
        "Write a function using regular expressions to find the domain name in the given email addresses (and return None for the invalid email addresses)<br><b>HINT: Use '|' for either or</b>"
      ]
    },
    {
      "cell_type": "markdown",
      "metadata": {
        "id": "hligE6xDFh3Q"
      },
      "source": [
        "#In-class Exercise 2 solution"
      ]
    },
    {
      "cell_type": "code",
      "execution_count": null,
      "metadata": {
        "colab": {
          "base_uri": "https://localhost:8080/"
        },
        "id": "L7ezOAvtJ0MO",
        "outputId": "fe8cd073-bf48-4e17-f463-76a6f22a9e35"
      },
      "outputs": [
        {
          "name": "stdout",
          "output_type": "stream",
          "text": [
            "None\n",
            "pocohontas1776@gmail.com\n",
            "None\n",
            "yourfavoriteband@g6.org\n",
            "None\n"
          ]
        }
      ],
      "source": [
        "import re\n",
        "\n",
        "def find_genuine_emails(emails):\n",
        "  \"\"\"Finds genuine email addresses ending in .com or .org, ignoring invalid ones.\n",
        "\n",
        "  Args:\n",
        "    emails: A string containing one or more email addresses separated by commas.\n",
        "\n",
        "  Returns:\n",
        "    A list containing only the genuine email addresses with .com or .org domains.\n",
        "  \"\"\"\n",
        "\n",
        "  # Updated regular expression with a negative lookahead assertion\n",
        "  domain_pattern = r\"^([^@].*?@([^.@]+\\.(?:com|org)))$\"       #r\"(?<!@)@([^.@]+\\.(?:com|org))$\"\n",
        "  genuine_emails = []\n",
        "\n",
        "  for email in emails.split(\",\"):\n",
        "    match = re.search(domain_pattern, email.strip())\n",
        "    if match:  # Check if there's a match\n",
        "      genuine_emails.append(email.strip())  # Add valid email to the list\n",
        "    else:\n",
        "      genuine_emails.append(None)\n",
        "  return genuine_emails\n",
        "\n",
        "# Test cases (ensure no extra spaces)\n",
        "my_emails = \"jordanw@codingtemple.orgcom, pocohontas1776@gmail.com, helloworld@aol..com, yourfavoriteband@g6.org, @codingtemple.com\"\n",
        "genuine_list = find_genuine_emails(my_emails)\n",
        "\n",
        "# Print only the genuine email addresses (with None for invalid)\n",
        "for email in genuine_list:\n",
        "  print(email)  # Print email or \"None\" if email is empty\n"
      ]
    },
    {
      "cell_type": "markdown",
      "metadata": {
        "id": "QE8HXG1cLrW-"
      },
      "source": [
        "### Opening a File <br>\n",
        "<p>Python gives us a couple ways to import files, below are the two used most often.</p>"
      ]
    },
    {
      "cell_type": "markdown",
      "metadata": {
        "id": "0CgPI23FLrXA"
      },
      "source": [
        "##### open()"
      ]
    },
    {
      "cell_type": "code",
      "execution_count": null,
      "metadata": {
        "colab": {
          "base_uri": "https://localhost:8080/"
        },
        "id": "duFre0lKLrXB",
        "outputId": "522124f1-9c91-4c42-cb9d-e8e1c7de3d65"
      },
      "outputs": [
        {
          "data": {
            "text/plain": [
              "<_io.TextIOWrapper name='/content/regex_test.txt' mode='r' encoding='UTF-8'>"
            ]
          },
          "execution_count": 3,
          "metadata": {},
          "output_type": "execute_result"
        }
      ],
      "source": [
        "open('/content/regex_test.txt')"
      ]
    },
    {
      "cell_type": "markdown",
      "metadata": {
        "id": "Y01CzeR6LrXB"
      },
      "source": [
        "##### with open()"
      ]
    },
    {
      "cell_type": "code",
      "execution_count": null,
      "metadata": {
        "colab": {
          "base_uri": "https://localhost:8080/"
        },
        "id": "SnLzHdHBLrXC",
        "outputId": "2b4085ed-c4ee-4d6d-8e09-77a0258e94de"
      },
      "outputs": [
        {
          "name": "stdout",
          "output_type": "stream",
          "text": [
            "[]\n"
          ]
        }
      ],
      "source": [
        "with open('/content/regex_test.txt','r') as file:\n",
        "  for i in file.readlines():\n",
        "    pattern=re.compile(r'^([A-Z][a-z]*(?:\\s[A-Z][a-z]*)+)$')\n",
        "    found=pattern.findall(i)\n",
        "  print(found)"
      ]
    },
    {
      "cell_type": "code",
      "execution_count": null,
      "metadata": {
        "colab": {
          "base_uri": "https://localhost:8080/"
        },
        "id": "HPPHgh6YdZ_w",
        "outputId": "3945c997-031a-4860-eef1-4f74cd3717f7"
      },
      "outputs": [
        {
          "name": "stdout",
          "output_type": "stream",
          "text": [
            "programming is cool\n"
          ]
        }
      ],
      "source": []
    },
    {
      "cell_type": "markdown",
      "metadata": {
        "id": "lTLEoTWOLrXC"
      },
      "source": [
        "##### re.match()"
      ]
    },
    {
      "cell_type": "code",
      "execution_count": null,
      "metadata": {
        "id": "CUm1J-etLrXC"
      },
      "outputs": [],
      "source": []
    },
    {
      "cell_type": "markdown",
      "metadata": {
        "id": "m_JrNABKLrXC"
      },
      "source": [
        "##### re.search()"
      ]
    },
    {
      "cell_type": "code",
      "execution_count": null,
      "metadata": {
        "colab": {
          "base_uri": "https://localhost:8080/"
        },
        "id": "Sw2rVNN9LrXC",
        "outputId": "a545628f-24e2-427d-f45d-05f5e66eeb9a"
      },
      "outputs": [
        {
          "name": "stdout",
          "output_type": "stream",
          "text": [
            "<re.Match object; span=(13, 17), match='blue'>\n"
          ]
        }
      ],
      "source": [
        "txt=\"The color is blue\"\n",
        "x=re.search(r\"\\bb\\w+\",txt)\n",
        "print(x)"
      ]
    },
    {
      "cell_type": "markdown",
      "metadata": {
        "id": "-Vb8P14YLrXD"
      },
      "source": [
        "##### Store the String to a Variable"
      ]
    },
    {
      "cell_type": "code",
      "execution_count": null,
      "metadata": {
        "id": "pQp6fw3RLrXD"
      },
      "outputs": [],
      "source": []
    },
    {
      "cell_type": "markdown",
      "metadata": {
        "id": "q6HrrGW1LrXD"
      },
      "source": [
        "### In-Class Exercise #3 <br>\n",
        "<p>Print each persons name and twitter handle, using groups, should look like:</p>\n",
        "<p>==============<br>\n",
        "   Full Name / Twitter<br>\n",
        "   ==============</p>\n",
        "Derek Hawkins / @derekhawkins\n",
        "\n",
        " Erik Sven-Osterberg / @sverik\n",
        "\n",
        " Ryan Butz / @ryanbutz\n",
        "\n",
        " Example Exampleson / @example\n",
        "\n",
        " Ripal Pael / @ripalp\n",
        "\n",
        " Darth Vader / @darthvader"
      ]
    },
    {
      "cell_type": "code",
      "execution_count": null,
      "metadata": {
        "colab": {
          "base_uri": "https://localhost:8080/"
        },
        "id": "hhvSSxgXLrXE",
        "outputId": "49359706-2c0b-4bce-ac83-f5674221f6ee",
        "scrolled": true
      },
      "outputs": [
        {
          "name": "stdout",
          "output_type": "stream",
          "text": [
            "Hawkins, Derek        derek@codingtemple.com        (555) 555-5555        Teacher, Coding Temple        @derekhawkins\n",
            "Zhai, Mo        mozhai@codingtemple.com        (555) 555-5554        Teacher, Coding Temple\n",
            "Johnson, Joe        joejohnson@codingtemple.com                Johson, Joe\n",
            "Osterberg, Sven-Erik        governor@norrbotten.co.se                Governor, Norrbotten        @sverik\n",
            ", Tim        tim@killerrabbit.com                Enchanter, Killer Rabbit Cave\n",
            "Butz, Ryan        ryanb@codingtemple.com        (555) 555-5543        CEO, Coding Temple        @ryanbutz\n",
            "Doctor, The        doctor+companion@tardis.co.uk                Time Lord, Gallifrey\n",
            "Exampleson, Example        me@example.com        555-555-5552        Example, Example Co.        @example\n",
            "Pael, Ripal        ripalp@codingtemple.com        (555) 555-5553        Teacher, Coding Temple        @ripalp\n",
            "Vader, Darth        darth-vader@empire.gov        (555) 555-4444        Sith Lord, Galactic Empire        @darthvader\n",
            "Fernandez de la Vega Sanz, Maria Teresa        mtfvs@spain.gov                First Deputy Prime Minister, Spanish Gov\n",
            "<built-in method group of re.Match object at 0x7876f629fdc0>\n"
          ]
        }
      ],
      "source": [
        "f=open('names.txt')\n",
        "data=f.read()\n",
        "print(data)\n",
        "x=re.search(r\"\\D\",data)\n",
        "print(x.group)"
      ]
    },
    {
      "cell_type": "markdown",
      "metadata": {
        "id": "jGGg_7haLrXE"
      },
      "source": [
        "### Regex project\n",
        "\n",
        "Use python to read the file regex_test.txt and print the Full name on each line using regular expressions and groups (return None for names with no first and last name, or names that aren't properly capitalized)\n",
        "##### Hint: use with open() and readlines()"
      ]
    },
    {
      "cell_type": "code",
      "execution_count": null,
      "metadata": {
        "id": "KAw4V3F6LrXE"
      },
      "outputs": [],
      "source": [
        "\"\"\"\n",
        "Expected Output\n",
        "Abraham Lincoln\n",
        "Andrew P Garfield\n",
        "Connor Milliken\n",
        "Jordan Alexander Williams\n",
        "None\n",
        "None\n",
        "\"\"\""
      ]
    },
    {
      "cell_type": "code",
      "execution_count": null,
      "metadata": {
        "colab": {
          "base_uri": "https://localhost:8080/",
          "height": 219
        },
        "id": "glIea75nr9ER",
        "outputId": "b1fe127e-2c01-4281-f031-ef6491892a25"
      },
      "outputs": [
        {
          "ename": "FileNotFoundError",
          "evalue": "[Errno 2] No such file or directory: 'regex_test.txt'",
          "output_type": "error",
          "traceback": [
            "\u001b[0;31m---------------------------------------------------------------------------\u001b[0m",
            "\u001b[0;31mFileNotFoundError\u001b[0m                         Traceback (most recent call last)",
            "\u001b[0;32m<ipython-input-2-f1e984362a89>\u001b[0m in \u001b[0;36m<cell line: 12>\u001b[0;34m()\u001b[0m\n\u001b[1;32m     10\u001b[0m \u001b[0;34m\u001b[0m\u001b[0m\n\u001b[1;32m     11\u001b[0m \u001b[0mlines\u001b[0m \u001b[0;34m=\u001b[0m \u001b[0;34m[\u001b[0m\u001b[0;34m]\u001b[0m\u001b[0;34m\u001b[0m\u001b[0;34m\u001b[0m\u001b[0m\n\u001b[0;32m---> 12\u001b[0;31m \u001b[0;32mwith\u001b[0m \u001b[0mopen\u001b[0m\u001b[0;34m(\u001b[0m\u001b[0;34m'regex_test.txt'\u001b[0m\u001b[0;34m,\u001b[0m \u001b[0;34m'r'\u001b[0m\u001b[0;34m)\u001b[0m \u001b[0;32mas\u001b[0m \u001b[0mfile\u001b[0m\u001b[0;34m:\u001b[0m\u001b[0;34m\u001b[0m\u001b[0;34m\u001b[0m\u001b[0m\n\u001b[0m\u001b[1;32m     13\u001b[0m     \u001b[0;32mfor\u001b[0m \u001b[0mline\u001b[0m \u001b[0;32min\u001b[0m \u001b[0mfile\u001b[0m\u001b[0;34m:\u001b[0m\u001b[0;34m\u001b[0m\u001b[0;34m\u001b[0m\u001b[0m\n\u001b[1;32m     14\u001b[0m         \u001b[0mlines\u001b[0m\u001b[0;34m.\u001b[0m\u001b[0mappend\u001b[0m\u001b[0;34m(\u001b[0m\u001b[0mline\u001b[0m\u001b[0;34m.\u001b[0m\u001b[0mstrip\u001b[0m\u001b[0;34m(\u001b[0m\u001b[0;34m)\u001b[0m\u001b[0;34m)\u001b[0m\u001b[0;34m\u001b[0m\u001b[0;34m\u001b[0m\u001b[0m\n",
            "\u001b[0;31mFileNotFoundError\u001b[0m: [Errno 2] No such file or directory: 'regex_test.txt'"
          ]
        }
      ],
      "source": [
        "import re\n",
        "\n",
        "def extract_full_name(line):\n",
        "    pattern = r'^([A-Z][a-z]*(?:\\s[A-Z][a-z]*)+)$'       #'^([A-Z][a-z]*(?:\\s[A-Z][a-z]*)*)$'\n",
        "    match = re.match(pattern, line.strip())\n",
        "    if match:\n",
        "        return match.group(1)\n",
        "    else:\n",
        "        return None\n",
        "\n",
        "lines = []\n",
        "with open('regex_test.txt', 'r') as file:\n",
        "    for line in file:\n",
        "        lines.append(line.strip())\n",
        "lines = [text.strip('\\ufeff') for text in lines]\n",
        "\n",
        "for line in lines:\n",
        "    full_name = extract_full_name(line)\n",
        "    if full_name:\n",
        "        print(full_name)\n",
        "    else:\n",
        "        print(\"None\")\n"
      ]
    },
    {
      "cell_type": "code",
      "execution_count": null,
      "metadata": {
        "id": "3vGoHg67uxWp"
      },
      "outputs": [],
      "source": [
        "\"\"\"\n",
        "Expected Output\n",
        "Abraham Lincoln\n",
        "Andrew P Garfield\n",
        "Connor Milliken\n",
        "Jordan Alexander Williams\n",
        "None\n",
        "None\n",
        "\"\"\""
      ]
    }
  ],
  "metadata": {
    "colab": {
      "provenance": []
    },
    "kernelspec": {
      "display_name": "Python 3 (ipykernel)",
      "language": "python",
      "name": "python3"
    },
    "language_info": {
      "codemirror_mode": {
        "name": "ipython",
        "version": 3
      },
      "file_extension": ".py",
      "mimetype": "text/x-python",
      "name": "python",
      "nbconvert_exporter": "python",
      "pygments_lexer": "ipython3",
      "version": "3.9.13"
    }
  },
  "nbformat": 4,
  "nbformat_minor": 0
}
