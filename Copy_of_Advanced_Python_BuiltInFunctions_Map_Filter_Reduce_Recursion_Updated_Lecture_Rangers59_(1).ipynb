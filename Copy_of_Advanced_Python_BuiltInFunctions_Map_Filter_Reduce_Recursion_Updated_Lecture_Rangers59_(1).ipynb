{
  "cells": [
    {
      "cell_type": "markdown",
      "metadata": {
        "id": "QuLkE5Elgoyz"
      },
      "source": [
        "# Map, Filter, Reduce, Lambda & Recursion"
      ]
    },
    {
      "cell_type": "markdown",
      "metadata": {
        "id": "Msv1_nNYgozQ"
      },
      "source": [
        "## Tasks Today:\n",
        "\n",
        "1) <b>Lambda Functions</b> <br>\n",
        " &nbsp;&nbsp;&nbsp;&nbsp; a) Syntax <br>\n",
        " &nbsp;&nbsp;&nbsp;&nbsp; b) Saving to a Variable <br>\n",
        " &nbsp;&nbsp;&nbsp;&nbsp; c) Multiple Inputs <br>\n",
        " &nbsp;&nbsp;&nbsp;&nbsp; d) Passing a Lambda into a Function <br>\n",
        " &nbsp;&nbsp;&nbsp;&nbsp; e) Returning a Lambda from a Function <br>\n",
        " &nbsp;&nbsp;&nbsp;&nbsp; f) In-Class Exercise #1 <br>\n",
        "2) <b>Map</b> <br>\n",
        " &nbsp;&nbsp;&nbsp;&nbsp; a) Syntax <br>\n",
        " &nbsp;&nbsp;&nbsp;&nbsp; b) Using Lambda's with Map <br>\n",
        " &nbsp;&nbsp;&nbsp;&nbsp; c) In-Class Exercise #2 <br>\n",
        "3) <b>Filter</b> <br>\n",
        " &nbsp;&nbsp;&nbsp;&nbsp; a) Syntax <br>\n",
        " &nbsp;&nbsp;&nbsp;&nbsp; b) Using Lambda's with Filter <br>\n",
        " &nbsp;&nbsp;&nbsp;&nbsp; c) In-Class Exercise #3 <br>\n",
        "4) <b>Reduce</b> <br>\n",
        " &nbsp;&nbsp;&nbsp;&nbsp; a) Syntax <br>\n",
        " &nbsp;&nbsp;&nbsp;&nbsp; b) Using Lambda's with Reduce <br>\n",
        " &nbsp;&nbsp;&nbsp;&nbsp; c) In-Class Exercise #4 <br>\n",
        "5) <b>Recursion</b> <br>\n",
        " &nbsp;&nbsp;&nbsp;&nbsp; a) Implementing a Base <br>\n",
        " &nbsp;&nbsp;&nbsp;&nbsp; b) Writing a Factorial Function <br>\n",
        " &nbsp;&nbsp;&nbsp;&nbsp; c) In-Class Exercise #5 <br>\n",
        "6) <b>Generators & Iterators</b> <br>\n",
        " &nbsp;&nbsp;&nbsp;&nbsp; a) Yield Keyword <br>\n",
        " &nbsp;&nbsp;&nbsp;&nbsp; b) Inifinite Generator <br>\n",
        " &nbsp;&nbsp;&nbsp;&nbsp; c) In-Class Exercise #6 <br>\n",
        "7) <b>Exercises</b> <br>\n",
        " &nbsp;&nbsp;&nbsp;&nbsp; a) Exercise #1 - Filtering Empty Strings <br>\n",
        " &nbsp;&nbsp;&nbsp;&nbsp; b) Exercise #2 - Sorting with Last Name <br>\n",
        " &nbsp;&nbsp;&nbsp;&nbsp; c) Exercise #3 - Conversion to Farhenheit <br>\n",
        " &nbsp;&nbsp;&nbsp;&nbsp; d) Exercise #4 - Fibonacci Sequence <br>"
      ]
    },
    {
      "cell_type": "markdown",
      "metadata": {
        "id": "oozYZkspgozS"
      },
      "source": [
        "## Lambda Functions <br>\n",
        "<p>Lambda functions... or \"Anonymous Functions\" are referring to inline functions with no name. The keyword lambda denotes the no name function, and executes within a single line. Without saving it to a variable; however, it is not able to be used, unless passed in either as a paramater or within list comprehension.<br>Written as \"(keyword lambda) (one or more inputs) (colon) (function to be executed)\"</p>"
      ]
    },
    {
      "cell_type": "markdown",
      "metadata": {
        "id": "p4xJxPSggozT"
      },
      "source": [
        "#### Syntax"
      ]
    },
    {
      "cell_type": "code",
      "execution_count": null,
      "metadata": {
        "id": "xT_5dKEOgozU",
        "outputId": "fede6a2a-8b0d-4587-8ab2-33880a20f6ec",
        "colab": {
          "base_uri": "https://localhost:8080/"
        }
      },
      "outputs": [
        {
          "output_type": "stream",
          "name": "stdout",
          "text": [
            "6\n"
          ]
        }
      ],
      "source": [
        "(lambda x:x+2)(2)\n",
        "a_var=4\n",
        "print((lambda x:x+2)(a_var))"
      ]
    },
    {
      "cell_type": "code",
      "source": [
        "add_two=lambda x:x+2\n",
        "add_two(2)"
      ],
      "metadata": {
        "id": "OAdxiS1eibVS",
        "outputId": "2fc083a0-520d-4a7d-f54e-c9131d217e68",
        "colab": {
          "base_uri": "https://localhost:8080/"
        }
      },
      "execution_count": null,
      "outputs": [
        {
          "output_type": "execute_result",
          "data": {
            "text/plain": [
              "4"
            ]
          },
          "metadata": {},
          "execution_count": 3
        }
      ]
    },
    {
      "cell_type": "markdown",
      "metadata": {
        "id": "oa5aWXMbgozY"
      },
      "source": [
        "#### Saving to a Variable"
      ]
    },
    {
      "cell_type": "code",
      "execution_count": null,
      "metadata": {
        "id": "_8WTKmhhgoza",
        "colab": {
          "base_uri": "https://localhost:8080/"
        },
        "outputId": "e61f092a-74f4-4c26-858b-07803ab3230c"
      },
      "outputs": [
        {
          "output_type": "execute_result",
          "data": {
            "text/plain": [
              "6"
            ]
          },
          "metadata": {},
          "execution_count": 36
        }
      ],
      "source": [
        "add_two=lambda x:x+2\n",
        "add_two(2)\n",
        "\n",
        "\n",
        "\n",
        "f_test=lambda x:x+2\n",
        "f_test(4)"
      ]
    },
    {
      "cell_type": "markdown",
      "metadata": {
        "id": "TK2YozVdgozb"
      },
      "source": [
        "#### Multiple Inputs"
      ]
    },
    {
      "cell_type": "code",
      "execution_count": null,
      "metadata": {
        "id": "VyZDTVdOgozc",
        "outputId": "a9b7bc3b-4c0b-492c-89aa-295091e26eac",
        "colab": {
          "base_uri": "https://localhost:8080/"
        }
      },
      "outputs": [
        {
          "output_type": "execute_result",
          "data": {
            "text/plain": [
              "29"
            ]
          },
          "metadata": {},
          "execution_count": 7
        }
      ],
      "source": [
        "add_two=lambda x,y,z:x**2+y**2+z**2\n",
        "add_two(2,3,4)"
      ]
    },
    {
      "cell_type": "markdown",
      "metadata": {
        "id": "-B9JeKwJgozc"
      },
      "source": [
        "#### Passing a Lambda into a Function"
      ]
    },
    {
      "cell_type": "code",
      "execution_count": null,
      "metadata": {
        "id": "cD2xs-7Lgozd",
        "outputId": "87ca0379-df13-4366-b983-c21a5345e992",
        "colab": {
          "base_uri": "https://localhost:8080/"
        }
      },
      "outputs": [
        {
          "output_type": "execute_result",
          "data": {
            "text/plain": [
              "36"
            ]
          },
          "metadata": {},
          "execution_count": 9
        }
      ],
      "source": [
        "def multiply_two(f,num):\n",
        "  return (lambda x,y:x*y)(f,num)\n",
        "\n",
        "\n",
        "multiply_two(12,3)\n",
        "\n"
      ]
    },
    {
      "cell_type": "markdown",
      "metadata": {
        "id": "gU8-iSd6gozd"
      },
      "source": [
        "#### Returning a Lambda from a Function"
      ]
    },
    {
      "cell_type": "code",
      "source": [
        "def a_func(b,c):# what value r for what\n",
        "  return (lambda x,a:a+b+c)(5,5)\n",
        "\n",
        "a_func(5,5)\n"
      ],
      "metadata": {
        "colab": {
          "base_uri": "https://localhost:8080/"
        },
        "id": "BptmJuYbo7H1",
        "outputId": "16a85431-fdeb-4c1c-b308-96c789026422"
      },
      "execution_count": null,
      "outputs": [
        {
          "output_type": "execute_result",
          "data": {
            "text/plain": [
              "15"
            ]
          },
          "metadata": {},
          "execution_count": 11
        }
      ]
    },
    {
      "cell_type": "markdown",
      "metadata": {
        "id": "YURJzND0goze"
      },
      "source": [
        "#### If Statements within Lambdas"
      ]
    },
    {
      "cell_type": "code",
      "execution_count": null,
      "metadata": {
        "id": "LWK6fQlbgozf",
        "outputId": "ab2d3ce7-ef54-40f8-caca-63ed9af7e8a3",
        "colab": {
          "base_uri": "https://localhost:8080/"
        }
      },
      "outputs": [
        {
          "output_type": "execute_result",
          "data": {
            "text/plain": [
              "False"
            ]
          },
          "metadata": {},
          "execution_count": 14
        }
      ],
      "source": [
        "(lambda x,y:True if x>y else False) (20,45)\n",
        "#(lambda x,y:x+2 if x>y else x-y) (100,50)"
      ]
    },
    {
      "cell_type": "code",
      "source": [
        "f_condition=lambda x:x+2 if x<10 else x+10\n",
        "print(f_condition(10))\n",
        "f_condition(2)\n",
        "f_condition(30)"
      ],
      "metadata": {
        "colab": {
          "base_uri": "https://localhost:8080/"
        },
        "id": "pz5R8o9ev0bE",
        "outputId": "c660c23a-5bcb-4f57-9797-827c5db7c91d"
      },
      "execution_count": null,
      "outputs": [
        {
          "output_type": "execute_result",
          "data": {
            "text/plain": [
              "40"
            ]
          },
          "metadata": {},
          "execution_count": 12
        }
      ]
    },
    {
      "cell_type": "markdown",
      "metadata": {
        "id": "Dt2_YTtTgozf"
      },
      "source": [
        "#### In-Class Exercise #1 <br>\n",
        "<p>Write an anonymous function that cubes the arguments passed in and assign the anonymous function to a variable 'f'.</p>"
      ]
    },
    {
      "cell_type": "code",
      "execution_count": null,
      "metadata": {
        "id": "g-F5czHlgozg",
        "outputId": "403bdce6-d377-4297-b4a4-3ea417bee8ac",
        "colab": {
          "base_uri": "https://localhost:8080/"
        }
      },
      "outputs": [
        {
          "output_type": "execute_result",
          "data": {
            "text/plain": [
              "8"
            ]
          },
          "metadata": {},
          "execution_count": 16
        }
      ],
      "source": [
        "f=(lambda x:x**3 )(2)\n",
        "f"
      ]
    },
    {
      "cell_type": "markdown",
      "metadata": {
        "id": "2i4hkt3Ogozh"
      },
      "source": [
        "## Map <br>\n",
        "<p>The map function allows you to iterate over an entire list while running a function on each item of the list. This is why the map function works well with lambda's, because it simplifies things and you write less lines of code.<br>The syntax for a map function is \"map(function to be used, list to be used)\"<br>However, you must be careful, as the map function returns a map object, not a list. To turn it into a list we use the list() type conversion.</p>"
      ]
    },
    {
      "cell_type": "markdown",
      "metadata": {
        "id": "_t8aLkUHgozh"
      },
      "source": [
        "#### Syntax"
      ]
    },
    {
      "cell_type": "code",
      "execution_count": null,
      "metadata": {
        "id": "dyRXrk3ggozi",
        "colab": {
          "base_uri": "https://localhost:8080/"
        },
        "outputId": "a597e419-84e6-4662-b213-eb9f6387237d"
      },
      "outputs": [
        {
          "output_type": "execute_result",
          "data": {
            "text/plain": [
              "[3, 4, 5, 5]"
            ]
          },
          "metadata": {},
          "execution_count": 14
        }
      ],
      "source": [
        "c=lambda b:(b-1,b+3,b*2)\n",
        "a=lambda x:x+2\n",
        "list(map(c,[1,2,3,4,5]))\n",
        "\n",
        "\n",
        "list(map(a,[1,2,3,3]))"
      ]
    },
    {
      "cell_type": "code",
      "source": [
        "def squared(num,num_2):\n",
        "  if num<100 and num_2<200:\n",
        "    return num**2 , num_2**2\n",
        "  else :\n",
        "    return num, num_2\n",
        "\n",
        "numbers=[4,5,3,6,7,8,1,89,67,900,60,89]\n",
        "more_numbers=[4,2,5,6,3,89,56]\n",
        "squared_nums_map=list(map(squared,numbers,more_numbers))\n",
        "print(squared_nums_map)\n"
      ],
      "metadata": {
        "colab": {
          "base_uri": "https://localhost:8080/"
        },
        "id": "4ajiflDv94_8",
        "outputId": "b92c1789-c53c-43c7-e9df-7f952b80b39f"
      },
      "execution_count": null,
      "outputs": [
        {
          "output_type": "stream",
          "name": "stdout",
          "text": [
            "[(16, 16), (25, 4), (9, 25), (36, 36), (49, 9), (64, 7921), (1, 3136)]\n"
          ]
        }
      ]
    },
    {
      "cell_type": "markdown",
      "metadata": {
        "id": "uY9OGwCOgozi"
      },
      "source": [
        "#### Using Lambda's with Map"
      ]
    },
    {
      "cell_type": "code",
      "execution_count": null,
      "metadata": {
        "id": "tPruIBgOgozi",
        "colab": {
          "base_uri": "https://localhost:8080/"
        },
        "outputId": "80531a48-da10-4b81-917b-7e661c2475c5"
      },
      "outputs": [
        {
          "output_type": "execute_result",
          "data": {
            "text/plain": [
              "[2, 4, 6, 8, 10]"
            ]
          },
          "metadata": {},
          "execution_count": 18
        }
      ],
      "source": [
        "add_three=lambda x:(x*2)\n",
        "list(map(add_three,[1,2,3,4,5]))"
      ]
    },
    {
      "cell_type": "code",
      "source": [
        "squared_num=list(map(lambda x,y:(x**2,y**2) if x<y else (x,y),numbers,more_numbers))\n",
        "print(squared_num)"
      ],
      "metadata": {
        "colab": {
          "base_uri": "https://localhost:8080/"
        },
        "id": "UfIGYX5DXwId",
        "outputId": "49765a48-fdb0-4e7e-8c8d-a9bdd6144261"
      },
      "execution_count": null,
      "outputs": [
        {
          "output_type": "stream",
          "name": "stdout",
          "text": [
            "[(4, 4), (5, 2), (9, 25), (6, 6), (7, 3), (64, 7921), (1, 3136)]\n"
          ]
        }
      ]
    },
    {
      "cell_type": "code",
      "source": [
        "d=lambda c:(c+c,c-1) #lambda input (a) colon :(logic with input)(a+1,a-2,a+3)\n",
        "r=list(map(d,[1,2,3,4]))# list (map (input(logic to be used (should be described bf4), list)))\n",
        "print(r)\n"
      ],
      "metadata": {
        "colab": {
          "base_uri": "https://localhost:8080/"
        },
        "id": "RJyo2NJcfCKu",
        "outputId": "a3073115-f5c9-434e-81a2-8e9b2700f6f9"
      },
      "execution_count": null,
      "outputs": [
        {
          "output_type": "stream",
          "name": "stdout",
          "text": [
            "[(2, 0), (4, 1), (6, 2), (8, 3)]\n"
          ]
        }
      ]
    },
    {
      "cell_type": "markdown",
      "metadata": {
        "id": "EfLXQBg-gozi"
      },
      "source": [
        "#### In-Class Exercise #2 <br>\n",
        "<p>Use the map function to double each number and minus it by one in the list by using a lambda function</p>"
      ]
    },
    {
      "cell_type": "code",
      "execution_count": null,
      "metadata": {
        "id": "ZSlfxfXngozj",
        "colab": {
          "base_uri": "https://localhost:8080/"
        },
        "outputId": "5b0e5a8a-2e47-488a-9822-684f04bda3af"
      },
      "outputs": [
        {
          "output_type": "execute_result",
          "data": {
            "text/plain": [
              "[(2, 0), (4, 1), (6, 2), (8, 3), (10, 4), (10, 4), (12, 5)]"
            ]
          },
          "metadata": {},
          "execution_count": 19
        }
      ],
      "source": [
        "d=lambda x:(x+x,x-1)\n",
        "list(map(d,[1,2,3,4,5,5,6]))"
      ]
    },
    {
      "cell_type": "markdown",
      "metadata": {
        "id": "O6GxaG3Xgozj"
      },
      "source": [
        "## Filter() <br>\n",
        "<p>Filter's are similar to the map function, where you're able to pass a function argument and a list argument and filter out something from the list based on the conditions passed. Similar to the map function, it returns a filter object, so you need to type convert it to a list()</p>"
      ]
    },
    {
      "cell_type": "markdown",
      "metadata": {
        "id": "8hAffNyMgozj"
      },
      "source": [
        "#### Syntax"
      ]
    },
    {
      "cell_type": "code",
      "execution_count": null,
      "metadata": {
        "id": "2d-BH8Wggozj",
        "colab": {
          "base_uri": "https://localhost:8080/"
        },
        "outputId": "b44dccd9-dd23-48f6-e126-14e501715210"
      },
      "outputs": [
        {
          "output_type": "execute_result",
          "data": {
            "text/plain": [
              "[2, 4]"
            ]
          },
          "metadata": {},
          "execution_count": 20
        }
      ],
      "source": [
        "j=lambda x:x % 2==0\n",
        "list(filter(j,[1,2,3,4]))"
      ]
    },
    {
      "cell_type": "code",
      "source": [],
      "metadata": {
        "id": "O9Xyz1eYxNgk"
      },
      "execution_count": null,
      "outputs": []
    },
    {
      "cell_type": "code",
      "source": [
        "name=['angie','roma','diana','alex','aron','liya']\n",
        "def a_names(name):\n",
        "  if name[0].lower()=='a':\n",
        "    return True\n",
        "  else:\n",
        "    return False\n",
        "\n",
        "cap=list(filter(a_names,name))\n",
        "print(cap)\n"
      ],
      "metadata": {
        "colab": {
          "base_uri": "https://localhost:8080/"
        },
        "id": "PY8pi7RSLf6w",
        "outputId": "5af328d1-5723-49e6-c4e2-4c4ef067dcb3"
      },
      "execution_count": null,
      "outputs": [
        {
          "output_type": "execute_result",
          "data": {
            "text/plain": [
              "False"
            ]
          },
          "metadata": {},
          "execution_count": 8
        }
      ]
    },
    {
      "cell_type": "markdown",
      "metadata": {
        "id": "bOlifwuOgozj"
      },
      "source": [
        "#### Using Lambda's with Filter()"
      ]
    },
    {
      "cell_type": "code",
      "execution_count": null,
      "metadata": {
        "id": "4-gdGzLXgozl"
      },
      "outputs": [],
      "source": [
        "a=lambda x:True if x+5==10 else False\n",
        "b=list(filter(a,[5,4,5,4]))\n",
        "b"
      ]
    },
    {
      "cell_type": "markdown",
      "metadata": {
        "id": "CxxCJpxTgozl"
      },
      "source": [
        "#### In-Class Exercise #3 <br>\n",
        "<p>Filter out all the numbers that are below the mean of the list.<br><b>Hint: Import the 'statistics' module</b></p>"
      ]
    },
    {
      "cell_type": "code",
      "execution_count": null,
      "metadata": {
        "id": "_5Zpk6OGgozs",
        "colab": {
          "base_uri": "https://localhost:8080/"
        },
        "outputId": "885fb94f-59e1-43d3-ca6e-3d4d2799675b"
      },
      "outputs": [
        {
          "output_type": "stream",
          "name": "stdout",
          "text": [
            "3.0\n"
          ]
        },
        {
          "output_type": "execute_result",
          "data": {
            "text/plain": [
              "[1, 2]"
            ]
          },
          "metadata": {},
          "execution_count": 33
        }
      ],
      "source": [
        "import statistics as s\n",
        "import numpy as np\n",
        "a=[1,2,3,4,5]\n",
        "b=np.mean(a)\n",
        "print(b)\n",
        "g=lambda x:x<b\n",
        "r=lambda x:x<b\n",
        "list(filter(g,[1,2,3,4,5]))"
      ]
    },
    {
      "cell_type": "markdown",
      "metadata": {
        "id": "HRdx_1aAgozt"
      },
      "source": [
        "## Reduce() <br>\n",
        "<p>Be very careful when using this function, as of Python 3 it's been moved to the 'functools' library and no longer is a built-in function.<br>The creator of Python himself, says to just use a for loop instead.</p>"
      ]
    },
    {
      "cell_type": "markdown",
      "metadata": {
        "id": "2rhGbpLmgozt"
      },
      "source": [
        "#### Syntax"
      ]
    },
    {
      "cell_type": "code",
      "execution_count": null,
      "metadata": {
        "id": "4137N3EFgozu",
        "colab": {
          "base_uri": "https://localhost:8080/"
        },
        "outputId": "e94c74c1-c35f-46f7-c830-3f7e9c77dc1c"
      },
      "outputs": [
        {
          "output_type": "execute_result",
          "data": {
            "text/plain": [
              "15"
            ]
          },
          "metadata": {},
          "execution_count": 12
        }
      ],
      "source": [
        "from functools import reduce\n",
        "red=lambda x,y:x+y\n",
        "reduce(red,[1,2,3,4,5])"
      ]
    },
    {
      "cell_type": "markdown",
      "metadata": {
        "id": "5po7n_x5gozu"
      },
      "source": [
        "#### Using Lambda's with Reduce()"
      ]
    },
    {
      "cell_type": "code",
      "execution_count": null,
      "metadata": {
        "id": "qOWUBuwMgozu",
        "colab": {
          "base_uri": "https://localhost:8080/"
        },
        "outputId": "7ead9ab8-3574-4c5a-e7bd-d6a2db853863"
      },
      "outputs": [
        {
          "output_type": "execute_result",
          "data": {
            "text/plain": [
              "120"
            ]
          },
          "metadata": {},
          "execution_count": 16
        }
      ],
      "source": [
        "grd=lambda x,y:x*y\n",
        "reduce(grd,[5,4,3,2,1])"
      ]
    },
    {
      "cell_type": "markdown",
      "metadata": {
        "id": "qWPVGccdgozu"
      },
      "source": [
        "#### In-Class Exercise #4 <br>\n",
        "<p>Use the reduce function to multiply the numbers in the list below together with a lambda function.</p>"
      ]
    },
    {
      "cell_type": "code",
      "execution_count": null,
      "metadata": {
        "id": "XSEPI13Qgozu",
        "colab": {
          "base_uri": "https://localhost:8080/"
        },
        "outputId": "f71f1cfb-dd8d-44b4-dc49-9fbb75bcbda2"
      },
      "outputs": [
        {
          "output_type": "execute_result",
          "data": {
            "text/plain": [
              "120"
            ]
          },
          "metadata": {},
          "execution_count": 17
        }
      ],
      "source": [
        "grd=lambda x,y:x*y\n",
        "reduce(grd,[5,4,3,2,1])\n"
      ]
    },
    {
      "cell_type": "markdown",
      "metadata": {
        "id": "UObtFarugozu"
      },
      "source": [
        "## Recursion <br>\n",
        "<p>Recursion means that a function is calling itself, so it contanstly executes until a base case is reached. It will then push the returning values back up the chain until the function is complete. A prime example of recursion is computing factorials... such that 5! (factorial) is 5*4*3*2*1 which equals 120.</p>"
      ]
    },
    {
      "cell_type": "markdown",
      "metadata": {
        "id": "xck9sp9igoz0"
      },
      "source": [
        "#### Implementing a Base Case"
      ]
    },
    {
      "cell_type": "code",
      "execution_count": null,
      "metadata": {
        "id": "azUFguelgoz0",
        "colab": {
          "base_uri": "https://localhost:8080/"
        },
        "outputId": "762fb6b8-9ca9-4ff9-a214-88bf250ee49a"
      },
      "outputs": [
        {
          "output_type": "execute_result",
          "data": {
            "text/plain": [
              "120"
            ]
          },
          "metadata": {},
          "execution_count": 19
        }
      ],
      "source": [
        "a=lambda x,y:x*y\n",
        "reduce(a,[5,4,3,2,1])\n",
        "\n",
        "\n",
        "def fact_func(num):\n",
        "  fact=1\n",
        "  for i in range(1,num+1):\n",
        "    fact=fact*i\n",
        "  return fact\n",
        "\n",
        "\n",
        "\n",
        "\n",
        "fact_func(5)"
      ]
    },
    {
      "cell_type": "code",
      "source": [
        "ages = [5, 12, 17, 18, 24, 32]\n",
        "a=lambda x:True if x>=18 else False\n",
        "b=list(filter(a,ages))\n",
        "b"
      ],
      "metadata": {
        "id": "tDRqNhto-oL3",
        "outputId": "58fcd25e-4d5d-4396-92c8-cbe11eac4cc7",
        "colab": {
          "base_uri": "https://localhost:8080/"
        }
      },
      "execution_count": null,
      "outputs": [
        {
          "output_type": "execute_result",
          "data": {
            "text/plain": [
              "[18, 24, 32]"
            ]
          },
          "metadata": {},
          "execution_count": 20
        }
      ]
    },
    {
      "cell_type": "code",
      "source": [
        "def addnum(nums):\n",
        "  if nums<=1:\n",
        "    print(\"addnum(1)=1\")#is there any connection bw red add num n yellow\n",
        "    return nums\n",
        "  else:\n",
        "    print(f\"addnum{nums}={nums}+addnum({nums-1})\")\n",
        "    return nums+addnum(nums-1)\n",
        "\n",
        "addnum(20)"
      ],
      "metadata": {
        "colab": {
          "base_uri": "https://localhost:8080/"
        },
        "id": "VH-JCv6MjYxE",
        "outputId": "0d622e7b-0e4c-4ac2-bcda-f43abe5c5c6c"
      },
      "execution_count": null,
      "outputs": [
        {
          "output_type": "stream",
          "name": "stdout",
          "text": [
            "addnum20=20+addnum(19)\n",
            "addnum19=19+addnum(18)\n",
            "addnum18=18+addnum(17)\n",
            "addnum17=17+addnum(16)\n",
            "addnum16=16+addnum(15)\n",
            "addnum15=15+addnum(14)\n",
            "addnum14=14+addnum(13)\n",
            "addnum13=13+addnum(12)\n",
            "addnum12=12+addnum(11)\n",
            "addnum11=11+addnum(10)\n",
            "addnum10=10+addnum(9)\n",
            "addnum9=9+addnum(8)\n",
            "addnum8=8+addnum(7)\n",
            "addnum7=7+addnum(6)\n",
            "addnum6=6+addnum(5)\n",
            "addnum5=5+addnum(4)\n",
            "addnum4=4+addnum(3)\n",
            "addnum3=3+addnum(2)\n",
            "addnum2=2+addnum(1)\n",
            "addnum(1)=1\n"
          ]
        },
        {
          "output_type": "execute_result",
          "data": {
            "text/plain": [
              "210"
            ]
          },
          "metadata": {},
          "execution_count": 12
        }
      ]
    },
    {
      "cell_type": "markdown",
      "metadata": {
        "id": "bEO4ASiPgoz0"
      },
      "source": [
        "#### Writing a Factorial Function"
      ]
    },
    {
      "cell_type": "code",
      "execution_count": null,
      "metadata": {
        "id": "gRf3TOntgoz1",
        "colab": {
          "base_uri": "https://localhost:8080/"
        },
        "outputId": "9f628ada-d898-4ea3-9d3d-ed627235f6bf"
      },
      "outputs": [
        {
          "output_type": "execute_result",
          "data": {
            "text/plain": [
              "120"
            ]
          },
          "metadata": {},
          "execution_count": 26
        }
      ],
      "source": [
        "def fact(n):\n",
        "  if n <= 1:\n",
        "    return 1\n",
        "  else:\n",
        "    return n*fact(n-1) #return n*(n-1)\n",
        "\n",
        "fact(5)\n"
      ]
    },
    {
      "cell_type": "markdown",
      "metadata": {
        "id": "XdLN3dvKgoz1"
      },
      "source": [
        "#### In-Class Exercise #5 <br>\n",
        "<p>Write a recursive function that subtracts all numbers to the argument given.</p>"
      ]
    },
    {
      "cell_type": "code",
      "execution_count": null,
      "metadata": {
        "id": "F1gTe5e7goz1",
        "colab": {
          "base_uri": "https://localhost:8080/"
        },
        "outputId": "8b3d67e4-ac1f-497b-9510-db37ba67c3c2"
      },
      "outputs": [
        {
          "output_type": "stream",
          "name": "stdout",
          "text": [
            "(sub_num20)=(20)-sub_num(19)\n",
            "(sub_num19)=(19)-sub_num(18)\n",
            "(sub_num18)=(18)-sub_num(17)\n",
            "(sub_num17)=(17)-sub_num(16)\n",
            "(sub_num16)=(16)-sub_num(15)\n",
            "(sub_num15)=(15)-sub_num(14)\n",
            "(sub_num14)=(14)-sub_num(13)\n",
            "(sub_num13)=(13)-sub_num(12)\n",
            "(sub_num12)=(12)-sub_num(11)\n",
            "(sub_num11)=(11)-sub_num(10)\n",
            "(sub_num10)=(10)-sub_num(9)\n",
            "(sub_num9)=(9)-sub_num(8)\n",
            "(sub_num8)=(8)-sub_num(7)\n",
            "(sub_num7)=(7)-sub_num(6)\n",
            "(sub_num6)=(6)-sub_num(5)\n",
            "(sub_num5)=(5)-sub_num(4)\n",
            "(sub_num4)=(4)-sub_num(3)\n",
            "(sub_num3)=(3)-sub_num(2)\n",
            "(sub_num2)=(2)-sub_num(1)\n"
          ]
        },
        {
          "output_type": "execute_result",
          "data": {
            "text/plain": [
              "10"
            ]
          },
          "metadata": {},
          "execution_count": 36
        }
      ],
      "source": [
        "def sub_num(n): #check\n",
        "  if n<=1:\n",
        "    return 1\n",
        "  else:\n",
        "    print(f\"(sub_num{n})=({n})-sub_num({n-1})\")\n",
        "    return n-sub_num(n-1)\n",
        "\n",
        "sub_num(20)\n"
      ]
    },
    {
      "cell_type": "markdown",
      "metadata": {
        "id": "2X72G_iygoz1"
      },
      "source": [
        "## Generators <br>\n",
        "<p>Generators are a type of iterable, like lists or tuples. They do not allow indexing, but they can still be iterated through with for loops. They are created using functions and the yield statement.</p>"
      ]
    },
    {
      "cell_type": "markdown",
      "metadata": {
        "id": "48DtuMPJgoz1"
      },
      "source": [
        "#### Yield Keyword <br>\n",
        "<p>The yield keyword denotes a generator, it doesn't return so it won't leave the function and reset all variables in the function scope, instead it yields the number back to the caller.</p>"
      ]
    },
    {
      "cell_type": "code",
      "execution_count": null,
      "metadata": {
        "id": "hFx8yK7Kgoz1",
        "colab": {
          "base_uri": "https://localhost:8080/"
        },
        "outputId": "273d88ce-1549-4c83-fde7-5bd4dd5f98d1"
      },
      "outputs": [
        {
          "output_type": "stream",
          "name": "stdout",
          "text": [
            "[0, 2, 4, 6, 8, 10, 12, 14, 16, 18]\n"
          ]
        }
      ],
      "source": [
        "def even_num(n):\n",
        "  for i in range(n):\n",
        "    if i%2==0:\n",
        "      yield i\n",
        "\n",
        "result=even_num(20)\n",
        "print(list(result))\n"
      ]
    },
    {
      "cell_type": "markdown",
      "metadata": {
        "id": "5NHYXML4goz1"
      },
      "source": [
        "#### Infinite Generator"
      ]
    },
    {
      "cell_type": "code",
      "execution_count": null,
      "metadata": {
        "id": "1kDyG5gFgoz2"
      },
      "outputs": [],
      "source": [
        "# bad, never create infinite loops"
      ]
    },
    {
      "cell_type": "markdown",
      "metadata": {
        "id": "MDiCiMDdgoz6"
      },
      "source": [
        "#### In-Class Exercise #6 <br>\n",
        "<p>Create a generator that takes a number argument and yields that number squared, then prints each number squared until zero is reached.</p>"
      ]
    },
    {
      "cell_type": "code",
      "execution_count": null,
      "metadata": {
        "id": "aKX8gaphgoz6",
        "colab": {
          "base_uri": "https://localhost:8080/"
        },
        "outputId": "f650d9f6-adba-4310-843a-abfff43ba6d2"
      },
      "outputs": [
        {
          "output_type": "stream",
          "name": "stdout",
          "text": [
            "[25, 16, 9, 4, 1]\n"
          ]
        }
      ],
      "source": [
        "def gen(num):\n",
        "  while num > 0:\n",
        "    yield num**2\n",
        "    num-=1\n",
        "\n",
        "result=gen(5)\n",
        "print(list(result))\n"
      ]
    },
    {
      "cell_type": "markdown",
      "metadata": {
        "id": "aVg6BU7Hgoz7"
      },
      "source": [
        "# Exercises"
      ]
    },
    {
      "cell_type": "markdown",
      "metadata": {
        "id": "kjvHXwYPgoz7"
      },
      "source": [
        "### Exercise #1 <br>\n",
        "<p>Filter out all of the empty strings from the list below</p>\n",
        "\n",
        "`Output: ['Argentina', 'San Diego', 'Boston', 'New York']`"
      ]
    },
    {
      "cell_type": "code",
      "execution_count": null,
      "metadata": {
        "id": "_3Q2_6D2goz8",
        "colab": {
          "base_uri": "https://localhost:8080/"
        },
        "outputId": "db75f36b-dc35-45d6-a1cc-168df4a4a3b5"
      },
      "outputs": [
        {
          "output_type": "execute_result",
          "data": {
            "text/plain": [
              "['Argentina', 'San Diego', 'Boston', 'New York']"
            ]
          },
          "metadata": {},
          "execution_count": 7
        }
      ],
      "source": [
        "places = [\" \",\"Argentina\", \" \", \"San Diego\",\"\",\"  \",\"\",\"Boston\",\"New York\"]\n",
        "\n",
        "result=filter(lambda a:len(a)>2,places)\n",
        "list(result)"
      ]
    },
    {
      "cell_type": "markdown",
      "metadata": {
        "id": "A6S0_s1dgoz8"
      },
      "source": [
        "### Exercise #2 <br>\n",
        "<p>Write an anonymous function that sorts this list by the last name...<br><b>Hint: Use the \".sort()\" method and access the key\"</b></p>\n",
        "\n",
        "`Output: ['Victor aNisimov', 'Gary A.J. Bernstein', 'Joel Carter', 'Andrew P. Garfield', 'David hassELHOFF']`"
      ]
    },
    {
      "cell_type": "code",
      "execution_count": null,
      "metadata": {
        "id": "IFbYYXf2goz8",
        "colab": {
          "base_uri": "https://localhost:8080/"
        },
        "outputId": "3974547a-9578-42d3-8cdf-1ccc9798e909"
      },
      "outputs": [
        {
          "output_type": "stream",
          "name": "stdout",
          "text": [
            "['Victor aNisimov', 'Gary A.J. Bernstein', 'Joel Carter', 'Andrew P. Garfield', 'David hassELHOFF']\n"
          ]
        }
      ],
      "source": [
        "author = [\"Joel Carter\", \"Victor aNisimov\", \"Andrew P. Garfield\",\"David hassELHOFF\",\"Gary A.J. Bernstein\"]\n",
        "\n",
        "# res=sorted(author,key=lambda x:x.split()[-1].lower())\n",
        "author.sort(key=lambda x:x.split()[-1].lower())\n",
        "print(author)\n",
        "# print(res)\n"
      ]
    },
    {
      "cell_type": "code",
      "source": [
        "d=lambda c:(c+c,c-1) #lambda input (a) colon :(logic with input)(a+1,a-2,a+3)\n",
        "r=list(map(d,[1,2,3,4]))# list (map (input(logic to be used (should be described bf4), list)))\n",
        "print(r)"
      ],
      "metadata": {
        "id": "nkJsKJGJ8Lfm"
      },
      "execution_count": null,
      "outputs": []
    },
    {
      "cell_type": "markdown",
      "metadata": {
        "id": "q7UjlYWLgoz-"
      },
      "source": [
        "### Exercise #3 <br>\n",
        "<p>Convert the list below from Celsius to Farhenheit, using the map function with a lambda...</p>\n",
        "\n",
        "`Output: [('Nashua', 89.6), ('Boston', 53.6), ('Los Angelos', 111.2), ('Miami', 84.2)]\n",
        "`"
      ]
    },
    {
      "cell_type": "code",
      "execution_count": null,
      "metadata": {
        "id": "OF0pAXWqgoz-",
        "colab": {
          "base_uri": "https://localhost:8080/"
        },
        "outputId": "e172942b-f9fb-460d-aed2-95cfa8d2a63e"
      },
      "outputs": [
        {
          "output_type": "stream",
          "name": "stdout",
          "text": [
            "[('Nashua', 89.6), ('Boston', 53.6), ('Los Angelos', 111.2), ('Miami', 84.2)]\n"
          ]
        }
      ],
      "source": [
        "# F = (9/5)*C + 32 #y not key here\n",
        "places = [('Nashua',32),(\"Boston\",12),(\"Los Angelos\",44),(\"Miami\",29)]\n",
        "d=(lambda a:(a[0],a[1]*(9/5)+32))\n",
        "result=list(map(d,places))\n",
        "print(list(result))\n"
      ]
    },
    {
      "cell_type": "markdown",
      "metadata": {
        "id": "mRKfWX4Fgoz-"
      },
      "source": [
        "### Exercise #4 <br>\n",
        "<p>Write a recursion function to perform the fibonacci sequence up to the number passed in.</p>\n",
        "\n",
        "`Output for fib(5) =>\n",
        "Iteration 0: 1\n",
        "Iteration 1: 1\n",
        "Iteration 2: 2\n",
        "Iteration 3: 3\n",
        "Iteration 4: 5\n",
        "Iteration 5: 8`"
      ]
    },
    {
      "cell_type": "code",
      "execution_count": null,
      "metadata": {
        "scrolled": true,
        "id": "cWqgRPQ5goz-",
        "colab": {
          "base_uri": "https://localhost:8080/"
        },
        "outputId": "a6a3aa2c-6616-4e51-cfe5-661594a5bd49"
      },
      "outputs": [
        {
          "output_type": "stream",
          "name": "stdout",
          "text": [
            "0 1\n",
            "1\n",
            "2\n",
            "3\n",
            "5\n"
          ]
        }
      ],
      "source": [
        "def fibonacci(num):\n",
        "  num1,num2=0,1\n",
        "  print(num1,num2)\n",
        "  for i in range(2,num+1):\n",
        "    n3=num1+num2\n",
        "    num1=num2\n",
        "    num2=n3\n",
        "    print(n3)\n",
        "\n",
        "fibonacci(5)\n"
      ]
    },
    {
      "cell_type": "code",
      "source": [
        "num=5\n",
        "n1,n2=0,1\n",
        "print(n1,n2)\n",
        "for i in range (2,num+2):\n",
        "  n3=n1+n2\n",
        "  n1=n2\n",
        "  n2=n3\n",
        "  print(n3)"
      ],
      "metadata": {
        "colab": {
          "base_uri": "https://localhost:8080/"
        },
        "id": "u4GYd_Z3u0Ji",
        "outputId": "1ab64820-0108-4b3a-82e5-ee9509907f0b"
      },
      "execution_count": null,
      "outputs": [
        {
          "output_type": "stream",
          "name": "stdout",
          "text": [
            "0 1\n",
            "1\n",
            "2\n",
            "3\n",
            "5\n",
            "8\n"
          ]
        }
      ]
    }
  ],
  "metadata": {
    "kernelspec": {
      "display_name": "Python 3",
      "language": "python",
      "name": "python3"
    },
    "language_info": {
      "codemirror_mode": {
        "name": "ipython",
        "version": 3
      },
      "file_extension": ".py",
      "mimetype": "text/x-python",
      "name": "python",
      "nbconvert_exporter": "python",
      "pygments_lexer": "ipython3",
      "version": "3.7.6"
    },
    "colab": {
      "provenance": []
    }
  },
  "nbformat": 4,
  "nbformat_minor": 0
}